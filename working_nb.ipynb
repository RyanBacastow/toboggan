{
 "cells": [
  {
   "cell_type": "code",
   "execution_count": 102,
   "metadata": {},
   "outputs": [],
   "source": [
    "import jinja2\n",
    "import json\n",
    "import re"
   ]
  },
  {
   "cell_type": "code",
   "execution_count": 8,
   "metadata": {},
   "outputs": [],
   "source": [
    "#main.tf:\n",
    "\n",
    "main = \"\"\"\n",
    "provider \"snowflake\" {\n",
    "  account = \"your-snowflake-account\"\n",
    "  region  = \"your-snowflake-region\"\n",
    "}\n",
    "\"\"\""
   ]
  },
  {
   "cell_type": "code",
   "execution_count": 9,
   "metadata": {},
   "outputs": [],
   "source": [
    "#users.tf\n",
    "user_template = jinja2.Template(\n",
    "\"\"\"\n",
    "locals {\n",
    "  users = {\n",
    "    \"{{user_name}}\" = {\n",
    "      login_name = \"{{user_name}}\"\n",
    "      role       = \"{{role}}\"\n",
    "      namespace  = \"{{database}}.{{schema}}\"\n",
    "      warehouse  = \"{{warehouse}}\"\n",
    "    }\n",
    "    \"CHEESE\" = {\n",
    "      login_name = \"CHEESE_DATAENGINEER@MACANDCHEESE.COM\"\n",
    "      role       = \"TRANSFORMER\"\n",
    "      namespace  = \"DEV.PUBLIC\"\n",
    "      warehouse  = \"TRANSFORMER_WH\"\n",
    "    }\n",
    "    \"STITCH\" = {\n",
    "      login_name = \"STITCH@MACANDCHEESE.COM\"\n",
    "      role       = \"LOADER\"\n",
    "      namespace  = \"DEV.PUBLIC\"\n",
    "      warehouse  = \"LOADER_WH\"\n",
    "    }\n",
    "  }\n",
    "}\n",
    "\n",
    "resource \"snowflake_user\" \"user\" {\n",
    "  for_each             = local.users\n",
    "  name                 = each.key\n",
    "  login_name           = each.value.login_name\n",
    "  default_role         = each.value.role\n",
    "  default_namespace    = each.value.namespace\n",
    "  default_warehouse    = each.value.warehouse\n",
    "  must_change_password = false\n",
    "}\n",
    "\"\"\"\n",
    ")"
   ]
  },
  {
   "cell_type": "code",
   "execution_count": 10,
   "metadata": {},
   "outputs": [],
   "source": [
    "#roles.tf\n",
    "role_template = jinja2.Template(\"\"\"\n",
    "locals {\n",
    "  roles = {\n",
    "    \"LOADER\" = {\n",
    "      comment = \"Owns the tables in raw schema\"\n",
    "    }\n",
    "    \"TRANSFORMER\" = {\n",
    "      comment = \"Has query permissions on tables in raw schema and owns tables in the analytics schema.\"\n",
    "    }\n",
    "  }\n",
    "}\n",
    "\n",
    "resource \"snowflake_role\" \"role\" {\n",
    "  for_each = local.roles\n",
    "  name     = each.key\n",
    "  comment  = each.value.comment\n",
    "}\n",
    "\n",
    "locals {\n",
    "  schemas = {\n",
    "    \"RAW\" = {\n",
    "      database = \"DEV\"\n",
    "      comment = \"contains raw data from our source systems\"\n",
    "      usage_roles = [\"TRANSFORMER\"]\n",
    "      all_roles = [\"LOADER\"]\n",
    "    }\n",
    "    \"ANALYTICS\" = {\n",
    "      database = \"DEV\"\n",
    "      comment = \"contains tables and views accessible to analysts and reporting\"\n",
    "      usage_roles = []\n",
    "      all_roles = [\"TRANSFORMER\"]\n",
    "    }\n",
    "  }\n",
    "}\n",
    "\n",
    "resource \"snowflake_schema\" \"schema\" {\n",
    "  for_each = local.schemas\n",
    "  name     = each.key\n",
    "  database = each.value.database\n",
    "  comment  = each.value.comment\n",
    "}\n",
    "\n",
    "resource \"snowflake_schema_grant\" \"schema_grant_usage\" {\n",
    "  for_each      = local.schemas\n",
    "  schema_name   = each.key\n",
    "  database_name = each.value.database\n",
    "  privilege     = \"USAGE\"\n",
    "  roles         = each.value.usage_roles\n",
    "  shares        = []\n",
    "}\n",
    "\n",
    "resource \"snowflake_schema_grant\" \"schema_grant_all\" {\n",
    "  for_each      = local.schemas\n",
    "  schema_name   = each.key\n",
    "  database_name = each.value.database\n",
    "  privilege     = \"ALL\"\n",
    "  roles         = each.value.all_roles\n",
    "  shares        = []\n",
    "}\n",
    "\"\"\")"
   ]
  },
  {
   "cell_type": "code",
   "execution_count": 11,
   "metadata": {},
   "outputs": [],
   "source": [
    "#schema.tf\n",
    "schema_template = jinja2.Template(\"\"\"\n",
    "locals {\n",
    "  schemas = {\n",
    "    \"RAW\" = {\n",
    "      database = \"DEV\"\n",
    "      comment = \"contains raw data from our source systems\"\n",
    "      usage_roles = [\"TRANSFORMER\"]\n",
    "      all_roles = [\"LOADER\"]\n",
    "    }\n",
    "    \"ANALYTICS\" = {\n",
    "      database = \"DEV\"\n",
    "      comment = \"contains tables and views accessible to analysts and reporting\"\n",
    "      usage_roles = []\n",
    "      all_roles = [\"TRANSFORMER\"]\n",
    "    }\n",
    "  }\n",
    "}\n",
    "\n",
    "resource \"snowflake_schema\" \"schema\" {\n",
    "  for_each = local.schemas\n",
    "  name     = each.key\n",
    "  database = each.value.database\n",
    "  comment  = each.value.comment\n",
    "}\n",
    "\n",
    "resource \"snowflake_schema_grant\" \"schema_grant_usage\" {\n",
    "  for_each      = local.schemas\n",
    "  schema_name   = each.key\n",
    "  database_name = each.value.database\n",
    "  privilege     = \"USAGE\"\n",
    "  roles         = each.value.usage_roles\n",
    "  shares        = []\n",
    "}\n",
    "\n",
    "resource \"snowflake_schema_grant\" \"schema_grant_all\" {\n",
    "  for_each      = local.schemas\n",
    "  schema_name   = each.key\n",
    "  database_name = each.value.database\n",
    "  privilege     = \"ALL\"\n",
    "  roles         = each.value.all_roles\n",
    "  shares        = []\n",
    "}\n",
    "\"\"\")"
   ]
  },
  {
   "cell_type": "code",
   "execution_count": 242,
   "metadata": {},
   "outputs": [],
   "source": [
    "class Toboggan:\n",
    "    \"\"\"\n",
    "    inputs: users, roles, queries, syntax\n",
    "    outputs: users.tf, roles.tf, queries.json, main.tf, variables.tf\n",
    "    \"\"\"\n",
    "    def __init__(self, mode='create', main_tf=None, warehouses_file=None, databases_file=None, users_file=None, roles_file=None, schemas_file=None, tables_file=None, queries_file=None, queries_syntax=None):\n",
    "        self.mode = mode\n",
    "        self.sep = ' ------------------------------ '\n",
    "        self.main_tf = main_tf\n",
    "        self.warehouses_file = warehouses_file\n",
    "        self.users_file = users_file\n",
    "        self.roles_file = roles_file\n",
    "        self.schemas_file = schemas_file\n",
    "        self.tables_file = tables_file\n",
    "        self.queries_file = queries_file\n",
    "        self.queries_syntax = queries_syntax\n",
    "        self.databases_file = databases_file\n",
    "        self.warehouses = []\n",
    "        self.default_roles = [{\"name\":\"PUBLIC\", \"comment\":\"Pseudo-role that is automatically granted to every user and every role in your account. The PUBLIC role can own securable objects, just like any other role; however, the objects owned by the role are, by definition, available to every other user and role in your account.This role is typically used in cases where explicit access control is not needed and all users are viewed as equal with regard to their access rights.\"},\n",
    "                              {\"name\":\"ACCOUNTADMIN\", \"comment\":\"Role that encapsulates the SYSADMIN and SECURITYADMIN system-defined roles. It is the top-level role in the system and should be granted only to a limited/controlled number of users in your account.\"},\n",
    "                              {\"name\":\"SECURITYADMIN\", \"comment\":\"Role that can manage any object grant globally, as well as create, monitor, and manage users and roles. More specifically, this role is granted the MANAGE GRANTS security privilege to be able to modify any grant, including revoking it. Inherits the privileges of the USERADMIN role via the system role hierarchy (e.g. USERADMIN role is granted to SECURITYADMIN).\"},\n",
    "                              {\"name\":\"USERADMIN\", \"comment\":\"Role that is dedicated to user and role management only. More specifically, this role is granted the CREATE USER and CREATE ROLE security privileges. Can create and manage users and roles in the account (assuming that ownership of those roles or users has not been transferred to another role).\"},\n",
    "                              {\"name\":\"SYSADMIN\", \"comment\":\"Role that has privileges to create warehouses and databases (and other objects) in an account. If, as recommended, you create a role hierarchy that ultimately assigns all custom roles to the SYSADMIN role, this role also has the ability to grant privileges on warehouses, databases, and other objects to other roles.\"}\n",
    "                             ]\n",
    "        self.roles = self.default_roles.copy()\n",
    "        self.databases = []\n",
    "        self.schemas = []\n",
    "        self.tables = []\n",
    "        self.users = []\n",
    "        self.queries = []\n",
    "        \n",
    "#         if queries_file:\n",
    "#             self.users = self.read_file(users_file)\n",
    "#         else:\n",
    "#             self.users = self.intake_users()\n",
    "    \n",
    "    @staticmethod\n",
    "    def clean_text(start_text, mode=\"lower\"):\n",
    "        \"\"\"\n",
    "        start_text: str : input text\n",
    "        return: str : corrected text\n",
    "        \"\"\"\n",
    "        if mode == 'lower':\n",
    "            text = start_text.lower()\n",
    "        else:\n",
    "            text = start_text.upper()\n",
    "        text = text.strip()\n",
    "        text = text.replace(\" \", \"_\")\n",
    "        text = text.replace(\"-\", \"_\")\n",
    "        text = re.sub(r'\\W+', '', text)\n",
    "\n",
    "        if start_text != text:\n",
    "            print(f\"\\nStandardized naming from {start_text} to {text}.\")\n",
    "        return text\n",
    "    \n",
    "    @staticmethod\n",
    "    def read_file(filename):\n",
    "        if '.json' in filename:\n",
    "            with open('filename') as json_file:\n",
    "                data = json.load(json_file)\n",
    "                print(data)\n",
    "        else:\n",
    "            with open('filename') as f:\n",
    "                data = f.read().splitlines()\n",
    "        \n",
    "        return data\n",
    "    \n",
    "    @staticmethod\n",
    "    def dedupe_dict_list(l):\n",
    "        deduped = [dict(t) for t in {tuple(d.items()) for d in l}]\n",
    "        return deduped\n",
    "    \n",
    "    def intake_warehouses(self, warehouses):\n",
    "        \"\"\"\n",
    "        warehouses: list: list of warehouses or empty list\n",
    "        return: list: list of warehouses populated with at least 1 warehouse\n",
    "        \"\"\"\n",
    "        print(f\"\\n{self.sep}WAREHOUSES{self.sep}\\n\")\n",
    "        \"\"\"\n",
    "        resource \"snowflake_warehouse\" \"warehouse_terraform\" {\n",
    "              name              =   \"dev_wh\"\n",
    "              warehouse_size    =   \"SMALL\"\n",
    "              auto_resume       =   false\n",
    "              auto_suspend      =   600\n",
    "              comment           =   \"terraform development warehouse\"\n",
    "        }\n",
    "        \"\"\"\n",
    "        warehouse_sizes = ['XSMALL', 'SMALL', 'MEDIUM', 'LARGE', 'XLARGE', 'XXLARGE', 'XXXLARGE', 'X4LARGE']\n",
    "        \n",
    "        while True:\n",
    "            ans = input(\"\\nDo you want to add a warehouse? y/n\\n\")\n",
    "            if ans.lower() in ['y', 'yes']:\n",
    "                warehouse = self.clean_text(input(\"\\nWhat is the warehouse name?\\n\"), mode='upper')\n",
    "                \n",
    "                if warehouse in [x['name'] for x in warehouses]:\n",
    "                    print(\"\\nWarehouse already added, please use unique names.\\n\")\n",
    "                    continue      \n",
    "                \n",
    "                while True:\n",
    "                    warehouse_size = input(f\"\"\"\\nWhat size should the warehouse be? (choose using 1-8)\n",
    "1. XSMALL\n",
    "2. SMALL\n",
    "3. MEDIUM\n",
    "4. LARGE\n",
    "5. XLARGE\n",
    "6. XXLARGE\n",
    "7. XXXLARGE\n",
    "8. X4LARGE\\n\"\"\")\n",
    "\n",
    "                    if warehouse_size not in ['1','2','3','4','5','6','7','8']:\n",
    "                        print('\\nUse a number between 1 and 8.\\n')\n",
    "                        continue\n",
    "                    else:\n",
    "                        warehouse_size = warehouse_sizes[int(warehouse_size) - 1]\n",
    "                        print(f\"\\n{warehouse_size} selected.\\n\")\n",
    "                        break\n",
    "                \n",
    "                while True:\n",
    "                    auto_resume = input(f\"\\nShould this warehouse start when queuried automatically?\\n1. true\\n2. false\\n\")\n",
    "                    \n",
    "                    if auto_resume not in ['1', '2']:\n",
    "                        print(\"\\nUse 1 or 2.\\n\")\n",
    "                        continue\n",
    "                    else:\n",
    "                        if auto_resume == '1':\n",
    "                            auto_resume = 'true'\n",
    "                        else:\n",
    "                            auto_resume = 'false'\n",
    "                            \n",
    "                        print(f\"\\nauto_resume {auto_resume} selected.\\n\")\n",
    "                        break\n",
    "                \n",
    "                while True:\n",
    "                    auto_suspend = input(f\"\\nHow long for the warehouse to suspend after inactivity? (60 - 3600 seconds)\\n\")\n",
    "                    try:\n",
    "                        if int(auto_suspend) > 3601 or int(auto_suspend) < 60:\n",
    "                            print(\"\\nUse a number between 60 and 3600\\n\")\n",
    "                            continue\n",
    "                        else:\n",
    "                            print(f\"\\nauto_suspend {auto_suspend} selected.\\n\")\n",
    "                            break\n",
    "                            \n",
    "                    except:\n",
    "                        print(\"\\nUse a number between 60 and 3600\\n\")\n",
    "                        continue\n",
    "                \n",
    "                comment = input(f\"\\nLeave a descriptive comment to describe {warehouse}:\\n\")\n",
    "                \n",
    "                wh = {'name':warehouse, 'warehouse_size':warehouse_size, 'auto_resume':auto_resume, 'auto_suspend':auto_suspend, 'comment':comment}\n",
    "                warehouses.append(wh)\n",
    "                print(f\"\\nCreated warehouse tf: {wh}\")\n",
    "                \n",
    "            elif ans.lower() in ['n', 'no']:\n",
    "                if len(warehouses) < 1:\n",
    "                    print(\"\\nYou have to add at least one warehouse.\\n\")\n",
    "                else:\n",
    "                    break\n",
    "            else:\n",
    "                print('\\nPlease use yes, y, no, or n\\n')\n",
    "        \n",
    "        return self.dedupe_dict_list(warehouses)\n",
    "        \n",
    "        \n",
    "    def intake_roles(self, roles):\n",
    "        \"\"\"\n",
    "        roles: list: list of roles or empty list\n",
    "        return: list : list of roles populated with at least 1 role\n",
    "        \"\"\"\n",
    "        print(f\"\\n{self.sep}ROLES{self.sep}\\n\")\n",
    "\n",
    "        while True:\n",
    "            ans = input(\"\\nDo you want to add a role? y/n\\n\")\n",
    "            if ans.lower() in ['y', 'yes']:\n",
    "                role = self.clean_text(input(\"\\nWhat is the role name?\\n\"), mode = 'upper')\n",
    "                #TODO name logic\n",
    "                \n",
    "                if role in [x['name'] for x in roles]:\n",
    "                    print(\"\\nRole already added, please use unique names.\\n\")\n",
    "                    continue      \n",
    "                \n",
    "                comment = input(f\"\\nLeave a descriptive comment to describe {role}:\\n\")\n",
    "                \n",
    "                roles.append({'name':role,'comment':comment})\n",
    "            elif ans.lower() in ['n', 'no']:\n",
    "                if len(roles) == 0:\n",
    "                    print(\"\\nUsing default roles only.\\n\")\n",
    "                    break\n",
    "                else:\n",
    "                    break\n",
    "            else:\n",
    "                print('\\nPlease use yes, y, no, or n\\n')\n",
    "        \n",
    "        return self.dedupe_dict_list(roles)\n",
    "    \n",
    "    def intake_databases(self, databases):\n",
    "        \"\"\"\n",
    "        databases: list :list of databases or empty list\n",
    "        returns: list : list of databases populated with at least 1 database\n",
    "        \"\"\"\n",
    "        print(f\"\\n{self.sep}DATABASES{self.sep}\\n\")\n",
    "        databases = []\n",
    "\n",
    "        while True:\n",
    "            ans = input(\"\\nDo you want to add a database? y/n\\n\")\n",
    "            if ans.lower() in ['y', 'yes']:\n",
    "                database = self.clean_text(input(\"What is the database name?\"), mode='upper')\n",
    "                \n",
    "                if database in [x for x in databases]:\n",
    "                    print(\"Database already added, please use unique names.\\n\")\n",
    "                    continue\n",
    "\n",
    "                databases.append({'name': database})\n",
    "                \n",
    "            elif ans.lower() in ['n', 'no']:\n",
    "                if len(databases) < 1:\n",
    "                    print(\"You have to add at least one database.\")\n",
    "                else:    \n",
    "                    break\n",
    "            else:\n",
    "                print('Please use yes, y, no, or n\\n')\n",
    "        \n",
    "        return self.dedupe_dict_list(databases)\n",
    "\n",
    "    def intake_schemas(self, schemas):\n",
    "        \"\"\"\n",
    "        schemas: list of schemas or empty list\n",
    "        returns: list : list of schemas populated with at least 1 schema\n",
    "        \"\"\"\n",
    "        print(f\"\\n{self.sep}SCHEMAS{self.sep}\\n\")\n",
    "        for database in self.databases:\n",
    "            schemas.append({'name':\"PUBLIC\", 'comment':\"Default Snowflake Schema\", 'database': database['name'], 'usage_access':[], 'all_access':[\"PUBLIC\"]})\n",
    "        schema_tracker = []\n",
    "        while True:\n",
    "            ans = input(\"\\nDo you want to add a schema? y/n\\n\")\n",
    "            if ans.lower() in ['yes', 'y']:\n",
    "                name = self.clean_text(input(\"\\nWhat is the schema name?\\n\"), mode='upper')\n",
    "                if name in schema_tracker:\n",
    "                    print(\"\\nSchema already added, please use unique names.\\n\")\n",
    "                    continue\n",
    "                else:\n",
    "                    schema_tracker.append(name)\n",
    "\n",
    "                comment = input(f\"\\nLeave a descriptive comment to describe {name}:\\n\")\n",
    "                \n",
    "                out_dict = {'name':name, 'comment':comment, 'database': None, 'usage_access':[], 'all_access':[]}\n",
    "                \n",
    "                # DATABASE SELECTION\n",
    "                databases = []\n",
    "                while True:\n",
    "                    ans = input(f\"\\nDo you want to add {name} to a database? y/n\\n\")\n",
    "                    if ans.lower() in ['yes', 'y']:\n",
    "                        print(f\"\\nWhich database should {name} be created in?\\n\")\n",
    "                        i = 1\n",
    "                        for option in self.database_names:\n",
    "                            print(f\"{i}. {option}\")\n",
    "                            i+= 1\n",
    "                        database = input(f\"\\nChoose an option between 1 and {i-1}\\n\")\n",
    "\n",
    "                        try:\n",
    "                            database = self.database_names[int(database) - 1]\n",
    "                            if database in databases:\n",
    "                                print(f\"\\n{database} already associated with schema.\\n\")\n",
    "                                continue\n",
    "                            else:\n",
    "                                out_dict['database'] = database\n",
    "                                print(f\"\\nAdded {database} association.\\n\")\n",
    "                                databases.append(database)\n",
    "                                \n",
    "                        except Exception as e:\n",
    "                            print(e)\n",
    "                            print(f\"\\nChoose an option between 1 and {i-1}\\n\")\n",
    "                            continue \n",
    "                    \n",
    "                    elif ans.lower() in ['n', 'no']:               \n",
    "                        if len(databases) < 1:\n",
    "                            print(f\"\\nYou have to add {name} to least one database.\\n\")\n",
    "                            continue\n",
    "                        else:    \n",
    "                            break\n",
    "                    else:\n",
    "                        print('\\nPlease use yes, y, no, or n\\n')\n",
    "                        continue\n",
    "\n",
    "                    #ROLE SELECTION\n",
    "                    roles = []\n",
    "                    \n",
    "                    while True:\n",
    "                        ans = input(f\"\\nDo you want to add a role to access objects in {database}.{name}? y/n\\n\")\n",
    "                        if ans.lower() in ['yes', 'y']:\n",
    "                            print(f\"\\nWhat role should have access to objects in {database}.{name}?\\n\")\n",
    "                            i = 1\n",
    "                            for option in self.role_names:\n",
    "                                print(f\"{i}. {option}\")\n",
    "                                i+= 1\n",
    "                            role = input(f\"\\nChoose an option between 1 and {i-1}. Else, type 'help' to see roles and descriptions.\\n\")\n",
    "\n",
    "                            try:\n",
    "                                role = self.role_names[int(role) - 1]\n",
    "                                if role in roles:\n",
    "                                    print(f\"\\n{role} already associated with schema.\\n\")\n",
    "                                    continue\n",
    "                                else:\n",
    "                                    roles.append(role)\n",
    "\n",
    "                            except:\n",
    "                                if role.lower() == 'help':\n",
    "                                    print(self.sep + \"ROLES OVERVIEW\" + self.sep)\n",
    "                                    for role in self.roles:\n",
    "                                        print(f\"\\n{role['name']} : {role['comment']}\")\n",
    "                                    continue\n",
    "                                else:\n",
    "                                    print(f\"\\nChoose an option between 1 and {i-1}. Else, type 'help' to see roles and descriptions.\\n\")\n",
    "                                    continue \n",
    "\n",
    "                            #ROLE-TYPE SELECTION\n",
    "                            while True:\n",
    "                                access_type = input(f\"\"\"\\nWhat type of access would you like to grant to {role} on {database}.{name}?\\n\n",
    "    1. USAGE: Enables using a virtual warehouse and executeing queries on the schema.\n",
    "    2. ALL: Grants all privileges, except OWNERSHIP, on the schema.\n",
    "    Enter 1 or 2:\\n\"\"\")\n",
    "                                if access_type not in [\"1\", \"2\"]:\n",
    "                                    print(\"\\nEnter 1 or 2.\\n\")\n",
    "                                    continue\n",
    "                                else:\n",
    "                                    if access_type == '1':\n",
    "                                        access_level = 'USAGE'\n",
    "                                        out_dict['usage_access'].extend(role)\n",
    "                                    else:\n",
    "                                        access_level = 'ALL'\n",
    "                                        out_dict['all_access'].extend(role)\n",
    "\n",
    "                                    print(f\"\\nAdded {role} role to {access_level} access for {database}.{name}\\n\")\n",
    "\n",
    "                                    break\n",
    "                            schemas.append(out_dict)\n",
    "                            continue\n",
    "\n",
    "                        elif ans.lower() in ['n', 'no']:\n",
    "                            #Default behavior?\n",
    "                            break\n",
    "                        else:\n",
    "                            print('\\nPlease use yes, y, no, or n\\n')\n",
    "\n",
    "            elif ans.lower() in ['n', 'no']:\n",
    "                if len(schemas) < 1:\n",
    "                    print(\"\\nYou must define at least 1 schema.\\n\")\n",
    "                    continue\n",
    "                else:\n",
    "                    break\n",
    "            else:\n",
    "                print('\\nPlease use yes, y, no, or n\\n')\n",
    "                continue\n",
    "            \n",
    "        return schemas\n",
    "\n",
    "    def intake_tables(self):\n",
    "        pass\n",
    "\n",
    "    def intake_users(self, users):\n",
    "        \"\"\"\n",
    "        users: list of users or empty list\n",
    "        returns: list : list of users populated with at least 1 user\n",
    "        \"\"\"\n",
    "        print(f\"\\n{self.sep}USERS{self.sep}\\n\")\n",
    "\n",
    "        while True:\n",
    "            ans = input(\"\\nDo you want to add a user? y/n\\n\")\n",
    "            if ans.lower() in ['yes', 'y']:\n",
    "                user = {}\n",
    "                name = self.clean_text(input(\"\\nWhat is the user's username?\\n\"))\n",
    "                if name in [x['name'] for x in users]:\n",
    "                    print(f\"\\nUser '{name}' already added, please use unique names.\\n\")\n",
    "                    continue\n",
    "                else:\n",
    "                    user['name'] = name\n",
    "                \n",
    "                while True:\n",
    "                    print(f\"What role should {name} have?\\n\")\n",
    "                    i = 1\n",
    "                    for option in self.role_names:\n",
    "                        print(f\"{i}. {option}\")\n",
    "                        i+= 1\n",
    "                    role = input(f\"\\nChoose an option between 1 and {i-1}\\n\")\n",
    "\n",
    "                    try:\n",
    "                        role = self.role_names[int(role) - 1]\n",
    "                        user['role'] = role\n",
    "                        break\n",
    "                    except:\n",
    "                        print(f\"\\nChoose an option between 1 and {i-1}\\n\")\n",
    "                        continue \n",
    "                    \n",
    "                while True:\n",
    "                    print(f\"\\nWhat warehouse should {name} have?\\n\")\n",
    "                    i = 1\n",
    "                    for option in self.warehouses:\n",
    "                        print(f\"{i}. {option}\")\n",
    "                        i+= 1\n",
    "                    warehouse = input(f\"\\nChoose an option between 1 and {i-1}\\n\")\n",
    "\n",
    "                    try:\n",
    "                        warehouse = self.warehouses[int(warehouse) - 1]\n",
    "                        user['warehouse'] = warehouse\n",
    "                        break\n",
    "                    except:\n",
    "                        print(f\"\\nChoose an option between 1 and {i-1}\\n\")\n",
    "                        continue\n",
    "                \n",
    "                schemas = [f\"{x['database']}.{x['schema']}\" for x in self.schemas]\n",
    "                \n",
    "                while True:\n",
    "                    i=1\n",
    "                    print(f\"\\nWhat default database and schema should {name} have?\\n\")\n",
    "                    for option in schemas:\n",
    "                        print(f\"{i}. {option}\")\n",
    "                        i+= 1\n",
    "                    namespace = input(f\"\\nChoose an option between 1 and {i-1}\\n\")\n",
    "                              \n",
    "                    try:\n",
    "                        namespace = schemas[int(namespace) - 1]\n",
    "                        user['namespace'] = namespace\n",
    "                        break\n",
    "                    except:\n",
    "                        print(f\"\\nChoose an option between 1 and {i-1}\\n\")\n",
    "                        continue\n",
    "                \n",
    "                users.append(user)\n",
    "                              \n",
    "            elif ans.lower() in ['n', 'no']:\n",
    "                if len(users) < 1:\n",
    "                    print(\"\\nYou have to add at least one user.\\n\")\n",
    "                else:\n",
    "                    break\n",
    "            else:\n",
    "                print('\\nPlease use yes, y, no, or n\\n\\n')\n",
    "        \n",
    "        return self.dedupe_dict_list(users)\n",
    "    \n",
    "    def intake_queries(self):\n",
    "        pass\n",
    "\n",
    "    def init_doc(self):\n",
    "        \"\"\"\n",
    "        provider \"snowflake\" {\n",
    "          account = \"your-snowflake-account\"\n",
    "          region  = \"your-snowflake-region\"\n",
    "        }\n",
    "        \"\"\"\n",
    "        pass\n",
    "    \n",
    "    def create_warehouses(self):\n",
    "        \"\"\"\n",
    "        Add warehouses to main.tf\n",
    "        self.warehouses : {'name':warehouse, 'warehouse_size':warehouse_size, 'auto_resume':auto_resume, 'auto_suspend':auto_suspend, 'comment':comment}\n",
    "        \"\"\"\n",
    "        \n",
    "        out_str = \"\"\n",
    "        \n",
    "        warehouse_template = jinja2.Template(\"\"\"\n",
    "        resource \"snowflake_warehouse\" \"warehouse_terraform\" {\n",
    "              name              =   \"{{name}}\"\n",
    "              warehouse_size    =   \"{{warehouse_size}}\"\n",
    "              auto_resume       =   {{auto_resume}}\n",
    "              auto_suspend      =   {{auto_suspend}}\n",
    "              comment           =   \"{{comment}}\"\n",
    "        }\"\"\")\n",
    "        \n",
    "        for warehouse in self.warehouses:\n",
    "            out_str += warehouse_template.render(name=warehouse['name'],\n",
    "                                                 warehouse_size=warehouse['warehouse_size'], \n",
    "                                                 auto_resume=warehouse['auto_resume'], \n",
    "                                                 auto_suspend=warehouse['auto_suspend'],\n",
    "                                                 comment=warehouse['comment']) + \"\\n\"\n",
    "        \n",
    "        return out_str\n",
    "    \n",
    "    def create_roles(self):\n",
    "        \"\"\"\n",
    "        create roles.tf if not provided\n",
    "        self.roles : [{'name': 'role_name', 'comment':'description'}]\n",
    "        \"\"\"\n",
    "        role_template = jinja2.Template(\"\"\"\n",
    "            locals {\n",
    "              roles = {\n",
    "               {{role_blob}}\n",
    "              }\n",
    "            }\n",
    "            \n",
    "            resource \"snowflake_role\" \"role\" {\n",
    "              for_each = local.roles\n",
    "              name     = each.key\n",
    "              comment  = each.value.comment\n",
    "            }\n",
    "\n",
    "            resource \"snowflake_role_grants\" \"role_grant\" {\n",
    "              for_each  = local.roles\n",
    "              role_name = each.key\n",
    "              users     = each.value.users\n",
    "              roles     = []\n",
    "            }\n",
    "            \"\"\")\n",
    "\n",
    "        role_insert_template = jinja2.Template(\"\"\"\n",
    "                                                \"{{role}}\" = {\n",
    "                                                  comment = \"{{comment}}\"\n",
    "                                                  users = {{users}}\n",
    "                                                }\n",
    "                                                \"\"\")\n",
    "        \n",
    "        role_blob = \"\"\"\"\"\"\n",
    "        \n",
    "        for role in self.roles:\n",
    "            out_dict = item.copy()\n",
    "            out_dict['users'] = []\n",
    "            for user in self.users:\n",
    "                if role['name'] in user['roles']:\n",
    "                    out_dict['users'] = out_dict['users'].appent(user['name'])\n",
    "            role_blob += role_insert_template.render(role=item['name'], comment=item['comment']).replace(\"'\",'\"')\n",
    "                                \n",
    "        out_str = role_template.render(roles_blob=roles_blob)\n",
    "        \n",
    "        with open('roles.tf', 'w+') as f:\n",
    "            f.write(out_str)\n",
    "        \n",
    "    def create_schemas(self):\n",
    "        \"\"\"\n",
    "        self.schemas : [{'name':name, 'comment':comment, 'database': database, 'usage_access':[roles], 'all_access':[roles]}]\n",
    "        \"\"\"\n",
    "        schema_template = jinja2.Template(\n",
    "            \"\"\"\n",
    "            locals {\n",
    "              schemas = {\n",
    "                {{schema_blob}}\n",
    "              }\n",
    "            }\n",
    "            resource \"snowflake_schema\" \"schema\" {\n",
    "              for_each = local.schemas\n",
    "              name     = each.key\n",
    "              database = each.value.database\n",
    "              comment  = each.value.comment\n",
    "            }\n",
    "\n",
    "            resource \"snowflake_schema_grant\" \"schema_grant_usage\" {\n",
    "              for_each      = local.schemas\n",
    "              schema_name   = each.key\n",
    "              database_name = each.value.database\n",
    "              privilege     = \"USAGE\"\n",
    "              roles         = each.value.usage_roles\n",
    "              shares        = []\n",
    "            }\n",
    "\n",
    "            resource \"snowflake_schema_grant\" \"schema_grant_all\" {\n",
    "              for_each      = local.schemas\n",
    "              schema_name   = each.key\n",
    "              database_name = each.value.database\n",
    "              privilege     = \"ALL\"\n",
    "              roles         = each.value.all_roles\n",
    "              shares        = []\n",
    "            }\n",
    "            \"\"\")\n",
    "        \n",
    "        schema_insert_template = jinja2.Template(\n",
    "            \"\"\"\n",
    "            \"{{schema}}\" = {\n",
    "                  database = \"{{database}}\"\n",
    "                  comment = \"{{comment}}\"\n",
    "                  usage_roles = {{usage_roles}}\n",
    "                  all_roles = {{all_roles}}\n",
    "                }\\n\n",
    "            \"\"\"\n",
    "        )\n",
    "            \n",
    "        schema_blob = \"\"\"\"\"\"\n",
    "            \n",
    "        for item in self.schemas:\n",
    "            schemas_blob += schema_insert_template.render(schema=item['name'], database=item['database'], usage_roles=item['usage_roles'], all_roles=item['all_roles']).replace(\"'\",'\"')\n",
    "                                \n",
    "        out_str = schema_template.render(schemas_blob=schema_blob)\n",
    "        \n",
    "        with open('roles.tf', 'w+') as f:\n",
    "            f.write(out_str)\n",
    "\n",
    "    def create_users(self):\n",
    "        \"\"\"\n",
    "        self.users : [{'name': 'role'}]\n",
    "        \"\"\"\n",
    "        user_template = jinja2.Template(\n",
    "                \"\"\"\n",
    "                locals {\n",
    "                  users = {\n",
    "                    {{user_blob}}\n",
    "                  }\n",
    "                }\n",
    "\n",
    "                resource \"snowflake_user\" \"user\" {\n",
    "                  for_each             = local.users\n",
    "                  name                 = each.key\n",
    "                  login_name           = each.value.login_name\n",
    "                  default_role         = each.value.role\n",
    "                  default_namespace    = each.value.namespace\n",
    "                  default_warehouse    = each.value.warehouse\n",
    "                  must_change_password = false\n",
    "                }\n",
    "                \"\"\")\n",
    "        \n",
    "        user_insert_template = jinja2.Template(\"\"\"\n",
    "                                                \"{{name}}\" = {\n",
    "                                                          login_name = \"{{name}}\"\n",
    "                                                          role       = \"{{role}}\"\n",
    "                                                          namespace  = \"{{namespace}}\"\n",
    "                                                          warehouse  = \"{{warehouse}}\"\n",
    "                                                        }\n",
    "                                              \"\"\")\n",
    "        \n",
    "        user_blob = \"\"\"\"\"\"\n",
    "    \n",
    "        for user in self.users:\n",
    "            user_blob += user_insert_template.render(name=user['name'], role=user['role'], namespace=user['namespace'], warehouse=user['warehouse']) + \"\\n\"\n",
    "                                \n",
    "        out_str = user_template.render(user_blob=user_blob)\n",
    "        \n",
    "        with open('users.tf', 'w+') as f:\n",
    "            f.write(out_str)\n",
    "    \n",
    "    def convert_sql(self, sql_syntax):\n",
    "        \"\"\"\n",
    "        convert a query from another syntax to snow sql\n",
    "        \"\"\"\n",
    "        pass\n",
    "    \n",
    "    def create_main_tf(self): \n",
    "        \"\"\"\n",
    "        create terraform\n",
    "        \"\"\"\n",
    "        acct = input(\"What is your snowflake account address?\\n\")\n",
    "        region = input(\"What is your snowflake account address?\\n\")\n",
    "        main_template = jinja2.Template(\"\"\"provider \"snowflake\" {\n",
    "                                                      account = \"{{acct}}\"\n",
    "                                                      region  = \"{{region}}\"\n",
    "                                                    }\"\"\")\n",
    "        out_str = main_template.render(acct=acct, region=region) + \"\\n\"\n",
    "        \n",
    "        out_str += self.create_warehouses()\n",
    "        \n",
    "        with open(\"main.tf\", \"w\") as f:\n",
    "            f.write(out_str)\n",
    "\n",
    "    def main(self):\n",
    "        \"\"\"\n",
    "        TODO\n",
    "        \"\"\"\n",
    "        self.warehouses = self.intake_warehouses(self.warehouses)\n",
    "        self.warehouse_names = [x['name'] for x in self.warehouses]\n",
    "        \n",
    "        if self.roles_file:\n",
    "            self.roles = self.read_file(roles_file)\n",
    "        \n",
    "        self.roles = self.intake_roles(self.roles)\n",
    "        self.role_names = [x['name'] for x in self.roles]\n",
    "\n",
    "        if self.databases_file:\n",
    "            self.databases = self.read_file(databases_file)\n",
    "        \n",
    "        self.databases = self.intake_databases(self.databases)\n",
    "        self.database_names = [x['name'] for x in self.databases]\n",
    "\n",
    "        if self.schemas_file:\n",
    "            self.schemas = self.read_file(schemas_file)\n",
    "            \n",
    "        self.schemas = self.intake_schemas(self.schemas)\n",
    "        self.schema_names = [x['name'] for x in self.schemas]\n",
    "\n",
    "        if self.users_file:\n",
    "            self.users = self.read_file(users_file)\n",
    "        \n",
    "        self.users = self.intake_users(self.users)\n",
    "        self.user_names = [x['name'] for x in self.users]\n",
    "                              \n",
    "        if self.main_tf:\n",
    "            #TODO logic here\n",
    "            pass\n",
    "        else:\n",
    "            self.create_main_tf()\n",
    "\n",
    "#     def apply_regex_sub(regex, expression, sub_string):\n",
    "#         import re\n",
    "#         p = re.compile(regex, re.MULTILINE) \n",
    "#         return re.sub(p, sub_string, expression)\n",
    "\n",
    "#     def mysql_to_snowflake(mysql_ddl):\n",
    "#         result = apply_regex_sub(r'`', mysql_ddl, u\\\"\\\") # Remove `\n",
    "#         result = apply_regex_sub(r'((--(.+)?)|(/\\\\*(.+)))\\\\n?', result, u\\\"\\\") # Remove all comments fields\n",
    "#         result = apply_regex_sub(r'(DROP(.)+)\\\\n', result, \\\"\\\") # Remove DROP Table reference\n",
    "#         result = apply_regex_sub(r'\\\\sDEFAULT(.+,)', result, u\\\",\\\") # Remove DEFAULT\n",
    "#         result = apply_regex_sub(r'\\\\s((NOT\\\\sNULL)|NULL)', result, u\\\"\\\") # Remove NULL\n",
    "#         result = apply_regex_sub(r'(((enum|varchar|nvarchar)\\\\(['0-9a-zA-Z,]+\\\\))|(text))(.)+\\\", result, u\\\"STRING,\\\") # STRING data types\n",
    "#         result = apply_regex_sub(r'(tiny)?int\\\\([0-9a-zA-Z,]+\\\\)(\\\\s(unsigned))?', result, u\\\"NUMBER\\\") # NUMBER data types\n",
    "#         result = apply_regex_sub(r'datetime', result, u\\\"TIMESTAMP_LTZ\\\") # TIMESTAMP_LTZ data types\n",
    "#         result = apply_regex_sub(r'\\\\s\\\\s(((PRIMARY)|(UNIQUE))\\\\s)?KEY(.+)\\\\n', result, u\\\"\\\") # Strip KEYS\n",
    "#         result = apply_regex_sub(r'AUTO_INCREMENT',result,\\\"\\\") #Strips AUTO_INCREMENT\n",
    "#         result = apply_regex_sub(r'\\\\s\\\\s(CONSTRAINT\\\\s)(.+)\\\\n', result, u\\\"\\\") # Strip CONSTRAINTS\n",
    "#         result = apply_regex_sub(r',?\\\\n\\\\)(.+)', result, u\\\"\\\\n);\\\") # Clean closing bracket\n",
    "#         result = apply_regex_sub(r'^(?:[\\\\t ]*(?:\\\\r?\\\\n|\\\\r))+', result, \\\"\\\") # Discard blank lines\n",
    "#         return result"
   ]
  },
  {
   "cell_type": "code",
   "execution_count": null,
   "metadata": {},
   "outputs": [
    {
     "name": "stdout",
     "output_type": "stream",
     "text": [
      "\n",
      " ------------------------------ WAREHOUSES ------------------------------ \n",
      "\n"
     ]
    },
    {
     "name": "stdin",
     "output_type": "stream",
     "text": [
      "\n",
      "Do you want to add a warehouse? y/n\n",
      " y\n",
      "\n",
      "What is the warehouse name?\n",
      " test\n"
     ]
    },
    {
     "name": "stdout",
     "output_type": "stream",
     "text": [
      "\n",
      "Standardized naming from test to TEST.\n"
     ]
    },
    {
     "name": "stdin",
     "output_type": "stream",
     "text": [
      "\n",
      "What size should the warehouse be? (choose using 1-8)\n",
      "1. XSMALL\n",
      "2. SMALL\n",
      "3. MEDIUM\n",
      "4. LARGE\n",
      "5. XLARGE\n",
      "6. XXLARGE\n",
      "7. XXXLARGE\n",
      "8. X4LARGE\n",
      " 32\n"
     ]
    },
    {
     "name": "stdout",
     "output_type": "stream",
     "text": [
      "\n",
      "Use a number between 1 and 8.\n",
      "\n"
     ]
    },
    {
     "name": "stdin",
     "output_type": "stream",
     "text": [
      "\n",
      "What size should the warehouse be? (choose using 1-8)\n",
      "1. XSMALL\n",
      "2. SMALL\n",
      "3. MEDIUM\n",
      "4. LARGE\n",
      "5. XLARGE\n",
      "6. XXLARGE\n",
      "7. XXXLARGE\n",
      "8. X4LARGE\n",
      " 3\n"
     ]
    },
    {
     "name": "stdout",
     "output_type": "stream",
     "text": [
      "\n",
      "MEDIUM selected.\n",
      "\n"
     ]
    },
    {
     "name": "stdin",
     "output_type": "stream",
     "text": [
      "\n",
      "Should this warehouse start when queuried automatically?\n",
      "1. true\n",
      "2. false\n",
      " 2\n"
     ]
    },
    {
     "name": "stdout",
     "output_type": "stream",
     "text": [
      "\n",
      "auto_resume false selected.\n",
      "\n"
     ]
    },
    {
     "name": "stdin",
     "output_type": "stream",
     "text": [
      "\n",
      "How long for the warehouse to suspend after inactivity? (60 - 3600 seconds)\n",
      " 600\n"
     ]
    },
    {
     "name": "stdout",
     "output_type": "stream",
     "text": [
      "\n",
      "auto_suspend 600 selected.\n",
      "\n"
     ]
    },
    {
     "name": "stdin",
     "output_type": "stream",
     "text": [
      "\n",
      "Leave a descriptive comment to describe TEST:\n",
      " testing\n"
     ]
    },
    {
     "name": "stdout",
     "output_type": "stream",
     "text": [
      "\n",
      "Created warehouse tf: {'name': 'TEST', 'warehouse_size': 'MEDIUM', 'auto_resume': 'false', 'auto_suspend': '600', 'comment': 'testing'}\n"
     ]
    },
    {
     "name": "stdin",
     "output_type": "stream",
     "text": [
      "\n",
      "Do you want to add a warehouse? y/n\n",
      " y\n",
      "\n",
      "What is the warehouse name?\n",
      " test\n"
     ]
    },
    {
     "name": "stdout",
     "output_type": "stream",
     "text": [
      "\n",
      "Standardized naming from test to TEST.\n",
      "\n",
      "Warehouse already added, please use unique names.\n",
      "\n"
     ]
    },
    {
     "name": "stdin",
     "output_type": "stream",
     "text": [
      "\n",
      "Do you want to add a warehouse? y/n\n",
      " n\n"
     ]
    },
    {
     "name": "stdout",
     "output_type": "stream",
     "text": [
      "\n",
      " ------------------------------ ROLES ------------------------------ \n",
      "\n"
     ]
    },
    {
     "name": "stdin",
     "output_type": "stream",
     "text": [
      "\n",
      "Do you want to add a role? y/n\n",
      " n\n"
     ]
    },
    {
     "name": "stdout",
     "output_type": "stream",
     "text": [
      "\n",
      " ------------------------------ DATABASES ------------------------------ \n",
      "\n"
     ]
    },
    {
     "name": "stdin",
     "output_type": "stream",
     "text": [
      "\n",
      "Do you want to add a database? y/n\n",
      " y\n",
      "What is the database name? test\n"
     ]
    },
    {
     "name": "stdout",
     "output_type": "stream",
     "text": [
      "\n",
      "Standardized naming from test to TEST.\n"
     ]
    },
    {
     "name": "stdin",
     "output_type": "stream",
     "text": [
      "\n",
      "Do you want to add a database? y/n\n",
      " y\n",
      "What is the database name? qa\n"
     ]
    },
    {
     "name": "stdout",
     "output_type": "stream",
     "text": [
      "\n",
      "Standardized naming from qa to QA.\n"
     ]
    },
    {
     "name": "stdin",
     "output_type": "stream",
     "text": [
      "\n",
      "Do you want to add a database? y/n\n",
      " n\n"
     ]
    },
    {
     "name": "stdout",
     "output_type": "stream",
     "text": [
      "\n",
      " ------------------------------ SCHEMAS ------------------------------ \n",
      "\n"
     ]
    },
    {
     "name": "stdin",
     "output_type": "stream",
     "text": [
      "\n",
      "Do you want to add a schema? y/n\n",
      " y\n",
      "\n",
      "What is the schema name?\n",
      " test\n"
     ]
    },
    {
     "name": "stdout",
     "output_type": "stream",
     "text": [
      "\n",
      "Standardized naming from test to TEST.\n"
     ]
    },
    {
     "name": "stdin",
     "output_type": "stream",
     "text": [
      "\n",
      "Leave a descriptive comment to describe TEST:\n",
      " testing\n",
      "\n",
      "Do you want to add TEST to a database? y/n\n",
      " y\n"
     ]
    },
    {
     "name": "stdout",
     "output_type": "stream",
     "text": [
      "\n",
      "Which database should TEST be created in?\n",
      "\n",
      "1. QA\n",
      "2. TEST\n"
     ]
    },
    {
     "name": "stdin",
     "output_type": "stream",
     "text": [
      "\n",
      "Choose an option between 1 and 2\n",
      " 1\n"
     ]
    },
    {
     "name": "stdout",
     "output_type": "stream",
     "text": [
      "\n",
      "Added QA association.\n",
      "\n"
     ]
    },
    {
     "name": "stdin",
     "output_type": "stream",
     "text": [
      "\n",
      "Do you want to add a role to access objects in QA.TEST? y/n\n",
      " y\n"
     ]
    },
    {
     "name": "stdout",
     "output_type": "stream",
     "text": [
      "\n",
      "What role should have access to objects in QA.TEST?\n",
      "\n",
      "1. ACCOUNTADMIN\n",
      "2. SECURITYADMIN\n",
      "3. USERADMIN\n",
      "4. PUBLIC\n",
      "5. SYSADMIN\n"
     ]
    },
    {
     "name": "stdin",
     "output_type": "stream",
     "text": [
      "\n",
      "Choose an option between 1 and 5. Else, type 'help' to see roles and descriptions.\n",
      " 1\n",
      "\n",
      "What type of access would you like to grant to ACCOUNTADMIN on QA.TEST?\n",
      "\n",
      "    1. USAGE: Enables using a virtual warehouse and executeing queries on the schema.\n",
      "    2. ALL: Grants all privileges, except OWNERSHIP, on the schema.\n",
      "    Enter 1 or 2:\n",
      " 1\n"
     ]
    },
    {
     "name": "stdout",
     "output_type": "stream",
     "text": [
      "\n",
      "Added ACCOUNTADMIN role to USAGE access for QA.TEST\n",
      "\n"
     ]
    },
    {
     "name": "stdin",
     "output_type": "stream",
     "text": [
      "\n",
      "Do you want to add a role to access objects in QA.TEST? y/n\n",
      " y\n"
     ]
    },
    {
     "name": "stdout",
     "output_type": "stream",
     "text": [
      "\n",
      "What role should have access to objects in QA.TEST?\n",
      "\n",
      "1. ACCOUNTADMIN\n",
      "2. SECURITYADMIN\n",
      "3. USERADMIN\n",
      "4. PUBLIC\n",
      "5. SYSADMIN\n"
     ]
    },
    {
     "name": "stdin",
     "output_type": "stream",
     "text": [
      "\n",
      "Choose an option between 1 and 5. Else, type 'help' to see roles and descriptions.\n",
      " 4\n",
      "\n",
      "What type of access would you like to grant to PUBLIC on QA.TEST?\n",
      "\n",
      "    1. USAGE: Enables using a virtual warehouse and executeing queries on the schema.\n",
      "    2. ALL: Grants all privileges, except OWNERSHIP, on the schema.\n",
      "    Enter 1 or 2:\n",
      " 1\n"
     ]
    },
    {
     "name": "stdout",
     "output_type": "stream",
     "text": [
      "\n",
      "Added PUBLIC role to USAGE access for QA.TEST\n",
      "\n"
     ]
    },
    {
     "name": "stdin",
     "output_type": "stream",
     "text": [
      "\n",
      "Do you want to add a role to access objects in QA.TEST? y/n\n",
      " y\n"
     ]
    },
    {
     "name": "stdout",
     "output_type": "stream",
     "text": [
      "\n",
      "What role should have access to objects in QA.TEST?\n",
      "\n",
      "1. ACCOUNTADMIN\n",
      "2. SECURITYADMIN\n",
      "3. USERADMIN\n",
      "4. PUBLIC\n",
      "5. SYSADMIN\n"
     ]
    },
    {
     "name": "stdin",
     "output_type": "stream",
     "text": [
      "\n",
      "Choose an option between 1 and 5. Else, type 'help' to see roles and descriptions.\n",
      " 1\n"
     ]
    },
    {
     "name": "stdout",
     "output_type": "stream",
     "text": [
      "\n",
      "ACCOUNTADMIN already associated with schema.\n",
      "\n"
     ]
    },
    {
     "name": "stdin",
     "output_type": "stream",
     "text": [
      "\n",
      "Do you want to add a role to access objects in QA.TEST? y/n\n",
      " n\n",
      "\n",
      "Do you want to add TEST to a database? y/n\n",
      " y\n"
     ]
    },
    {
     "name": "stdout",
     "output_type": "stream",
     "text": [
      "\n",
      "Which database should TEST be created in?\n",
      "\n",
      "1. QA\n",
      "2. TEST\n"
     ]
    },
    {
     "name": "stdin",
     "output_type": "stream",
     "text": [
      "\n",
      "Choose an option between 1 and 2\n",
      " 1\n"
     ]
    },
    {
     "name": "stdout",
     "output_type": "stream",
     "text": [
      "\n",
      "QA already associated with schema.\n",
      "\n"
     ]
    },
    {
     "name": "stdin",
     "output_type": "stream",
     "text": [
      "\n",
      "Do you want to add TEST to a database? y/n\n",
      " y\n"
     ]
    },
    {
     "name": "stdout",
     "output_type": "stream",
     "text": [
      "\n",
      "Which database should TEST be created in?\n",
      "\n",
      "1. QA\n",
      "2. TEST\n"
     ]
    },
    {
     "name": "stdin",
     "output_type": "stream",
     "text": [
      "\n",
      "Choose an option between 1 and 2\n",
      " 2\n"
     ]
    },
    {
     "name": "stdout",
     "output_type": "stream",
     "text": [
      "\n",
      "Added TEST association.\n",
      "\n"
     ]
    },
    {
     "name": "stdin",
     "output_type": "stream",
     "text": [
      "\n",
      "Do you want to add a role to access objects in TEST.TEST? y/n\n",
      " y\n"
     ]
    },
    {
     "name": "stdout",
     "output_type": "stream",
     "text": [
      "\n",
      "What role should have access to objects in TEST.TEST?\n",
      "\n",
      "1. ACCOUNTADMIN\n",
      "2. SECURITYADMIN\n",
      "3. USERADMIN\n",
      "4. PUBLIC\n",
      "5. SYSADMIN\n"
     ]
    },
    {
     "name": "stdin",
     "output_type": "stream",
     "text": [
      "\n",
      "Choose an option between 1 and 5. Else, type 'help' to see roles and descriptions.\n",
      " 4\n",
      "\n",
      "What type of access would you like to grant to PUBLIC on TEST.TEST?\n",
      "\n",
      "    1. USAGE: Enables using a virtual warehouse and executeing queries on the schema.\n",
      "    2. ALL: Grants all privileges, except OWNERSHIP, on the schema.\n",
      "    Enter 1 or 2:\n",
      " 2\n"
     ]
    },
    {
     "name": "stdout",
     "output_type": "stream",
     "text": [
      "\n",
      "Added PUBLIC role to ALL access for TEST.TEST\n",
      "\n"
     ]
    },
    {
     "name": "stdin",
     "output_type": "stream",
     "text": [
      "\n",
      "Do you want to add a role to access objects in TEST.TEST? y/n\n",
      " y\n"
     ]
    },
    {
     "name": "stdout",
     "output_type": "stream",
     "text": [
      "\n",
      "What role should have access to objects in TEST.TEST?\n",
      "\n",
      "1. ACCOUNTADMIN\n",
      "2. SECURITYADMIN\n",
      "3. USERADMIN\n",
      "4. PUBLIC\n",
      "5. SYSADMIN\n"
     ]
    },
    {
     "name": "stdin",
     "output_type": "stream",
     "text": [
      "\n",
      "Choose an option between 1 and 5. Else, type 'help' to see roles and descriptions.\n",
      " 1\n",
      "\n",
      "What type of access would you like to grant to ACCOUNTADMIN on TEST.TEST?\n",
      "\n",
      "    1. USAGE: Enables using a virtual warehouse and executeing queries on the schema.\n",
      "    2. ALL: Grants all privileges, except OWNERSHIP, on the schema.\n",
      "    Enter 1 or 2:\n",
      " 1\n"
     ]
    },
    {
     "name": "stdout",
     "output_type": "stream",
     "text": [
      "\n",
      "Added ACCOUNTADMIN role to USAGE access for TEST.TEST\n",
      "\n"
     ]
    },
    {
     "name": "stdin",
     "output_type": "stream",
     "text": [
      "\n",
      "Do you want to add a role to access objects in TEST.TEST? y/n\n",
      " n\n",
      "\n",
      "Do you want to add TEST to a database? y/n\n",
      " y\n"
     ]
    },
    {
     "name": "stdout",
     "output_type": "stream",
     "text": [
      "\n",
      "Which database should TEST be created in?\n",
      "\n",
      "1. QA\n",
      "2. TEST\n"
     ]
    },
    {
     "name": "stdin",
     "output_type": "stream",
     "text": [
      "\n",
      "Choose an option between 1 and 2\n",
      " 1\n"
     ]
    },
    {
     "name": "stdout",
     "output_type": "stream",
     "text": [
      "\n",
      "QA already associated with schema.\n",
      "\n"
     ]
    },
    {
     "name": "stdin",
     "output_type": "stream",
     "text": [
      "\n",
      "Do you want to add TEST to a database? y/n\n",
      " 2\n"
     ]
    },
    {
     "name": "stdout",
     "output_type": "stream",
     "text": [
      "\n",
      "Please use yes, y, no, or n\n",
      "\n"
     ]
    },
    {
     "name": "stdin",
     "output_type": "stream",
     "text": [
      "\n",
      "Do you want to add TEST to a database? y/n\n",
      " n\n",
      "\n",
      "Do you want to add a schema? y/n\n",
      " n\n"
     ]
    },
    {
     "name": "stdout",
     "output_type": "stream",
     "text": [
      "\n",
      " ------------------------------ USERS ------------------------------ \n",
      "\n"
     ]
    }
   ],
   "source": [
    "T = Toboggan(mode='create')\n",
    "\n",
    "T.main()"
   ]
  },
  {
   "cell_type": "code",
   "execution_count": 112,
   "metadata": {},
   "outputs": [],
   "source": [
    "def clean_text(start_text):\n",
    "    text = start_text.lower()\n",
    "    text = text.replace(\" \", \"_\")\n",
    "    text = text.replace(\"-\", \"_\")\n",
    "    text = re.sub(r'\\W+', '', text)\n",
    "    \n",
    "\n",
    "    if start_text != text:\n",
    "        print(f\"Standardized naming to {text}\")\n",
    "    return text"
   ]
  },
  {
   "cell_type": "code",
   "execution_count": 113,
   "metadata": {},
   "outputs": [
    {
     "name": "stdout",
     "output_type": "stream",
     "text": [
      "Standardized naming to this_is_a_test\n"
     ]
    },
    {
     "data": {
      "text/plain": [
       "'this_is_a_test'"
      ]
     },
     "execution_count": 113,
     "metadata": {},
     "output_type": "execute_result"
    }
   ],
   "source": [
    "clean_text(\"this_IS_a-TE$ST\")"
   ]
  },
  {
   "cell_type": "code",
   "execution_count": 218,
   "metadata": {},
   "outputs": [
    {
     "data": {
      "text/plain": [
       "[{'name': 'a'}, {'name': 'b'}]"
      ]
     },
     "execution_count": 218,
     "metadata": {},
     "output_type": "execute_result"
    }
   ],
   "source": [
    "x = {\"name\":\"a\"}\n",
    "y = {\"name\":\"b\"}\n",
    "l = [x, y]\n",
    "\n",
    "def dedupe_dict_list(l):\n",
    "    deduped = [dict(t) for t in {tuple(d.items()) for d in l}]\n",
    "    return deduped\n",
    "\n",
    "dedupe_dict_list(l)"
   ]
  },
  {
   "cell_type": "code",
   "execution_count": 131,
   "metadata": {},
   "outputs": [],
   "source": [
    "names = [{\"name\":\"test\"}, {\"name\":\"ryan\"}]"
   ]
  },
  {
   "cell_type": "code",
   "execution_count": 169,
   "metadata": {},
   "outputs": [
    {
     "ename": "TypeError",
     "evalue": "unhashable type: 'dict'",
     "output_type": "error",
     "traceback": [
      "\u001b[0;31m---------------------------------------------------------------------------\u001b[0m",
      "\u001b[0;31mTypeError\u001b[0m                                 Traceback (most recent call last)",
      "\u001b[0;32m<ipython-input-169-4d6be1128a4f>\u001b[0m in \u001b[0;36m<module>\u001b[0;34m\u001b[0m\n\u001b[1;32m      1\u001b[0m \u001b[0mz\u001b[0m \u001b[0;34m=\u001b[0m \u001b[0;34m[\u001b[0m\u001b[0;34m{\u001b[0m\u001b[0;34m\"a\"\u001b[0m\u001b[0;34m:\u001b[0m\u001b[0;34m\"b\"\u001b[0m\u001b[0;34m}\u001b[0m\u001b[0;34m,\u001b[0m \u001b[0;34m{\u001b[0m\u001b[0;34m\"a\"\u001b[0m\u001b[0;34m:\u001b[0m\u001b[0;34m\"b\"\u001b[0m\u001b[0;34m}\u001b[0m\u001b[0;34m]\u001b[0m\u001b[0;34m\u001b[0m\u001b[0;34m\u001b[0m\u001b[0m\n\u001b[0;32m----> 2\u001b[0;31m \u001b[0mprint\u001b[0m\u001b[0;34m(\u001b[0m\u001b[0mset\u001b[0m\u001b[0;34m(\u001b[0m\u001b[0mz\u001b[0m\u001b[0;34m)\u001b[0m\u001b[0;34m)\u001b[0m\u001b[0;34m\u001b[0m\u001b[0;34m\u001b[0m\u001b[0m\n\u001b[0m",
      "\u001b[0;31mTypeError\u001b[0m: unhashable type: 'dict'"
     ]
    }
   ],
   "source": [
    "z = [{\"a\":\"b\"}, {\"a\":\"b\"}]\n",
    "print(set(z))"
   ]
  },
  {
   "cell_type": "code",
   "execution_count": null,
   "metadata": {},
   "outputs": [],
   "source": [
    "def test_create_users(self):\n",
    "    \"\"\"\n",
    "    create users.json if not provided\n",
    "    \"\"\"\n",
    "    pass\n",
    "\n",
    "def test_create_roles(self):\n",
    "    \"\"\"\n",
    "    create roles.json if not provided\n",
    "    \"\"\"\n",
    "    pass\n",
    "\n",
    "def test_create_associations(self):\n",
    "    \"\"\"\n",
    "    create master role + user json\n",
    "    \"\"\"\n",
    "    pass\n",
    "\n",
    "def test_convert_sql(self, sql_syntax):\n",
    "    \"\"\"\n",
    "    convert a query from another syntax to snow sql\n",
    "    \"\"\"\n",
    "    pass\n",
    "\n",
    "def test_create_tf(self): \n",
    "    \"\"\"\n",
    "    create terraform\n",
    "    \"\"\"\n",
    "    pass\n"
   ]
  },
  {
   "cell_type": "code",
   "execution_count": 41,
   "metadata": {},
   "outputs": [],
   "source": [
    "l = [{'a':'b'},{'c':'d'}]"
   ]
  },
  {
   "cell_type": "code",
   "execution_count": 53,
   "metadata": {},
   "outputs": [],
   "source": [
    "all_roles = [k for k in l]"
   ]
  },
  {
   "cell_type": "code",
   "execution_count": 54,
   "metadata": {},
   "outputs": [
    {
     "data": {
      "text/plain": [
       "[{'a': 'b'}, {'c': 'd'}]"
      ]
     },
     "execution_count": 54,
     "metadata": {},
     "output_type": "execute_result"
    }
   ],
   "source": [
    "all_roles"
   ]
  },
  {
   "cell_type": "code",
   "execution_count": 55,
   "metadata": {},
   "outputs": [],
   "source": []
  },
  {
   "cell_type": "code",
   "execution_count": 57,
   "metadata": {},
   "outputs": [
    {
     "data": {
      "text/plain": [
       "['a', 'c']"
      ]
     },
     "execution_count": 57,
     "metadata": {},
     "output_type": "execute_result"
    }
   ],
   "source": [
    "list(all_keys)"
   ]
  },
  {
   "cell_type": "code",
   "execution_count": null,
   "metadata": {},
   "outputs": [],
   "source": []
  }
 ],
 "metadata": {
  "kernelspec": {
   "display_name": "Python 3",
   "language": "python",
   "name": "python3"
  },
  "language_info": {
   "codemirror_mode": {
    "name": "ipython",
    "version": 3
   },
   "file_extension": ".py",
   "mimetype": "text/x-python",
   "name": "python",
   "nbconvert_exporter": "python",
   "pygments_lexer": "ipython3",
   "version": "3.7.3"
  }
 },
 "nbformat": 4,
 "nbformat_minor": 4
}
