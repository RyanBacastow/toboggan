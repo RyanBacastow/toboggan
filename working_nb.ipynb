{
 "cells": [
  {
   "cell_type": "code",
   "execution_count": null,
   "metadata": {},
   "outputs": [],
   "source": [
    "class Tobbogan:\n",
    "    def __init__(self):\n",
    "        pass\n",
    "    \n",
    "    def create_users(self):\n",
    "        \"\"\"\n",
    "        create users.json if not provided\n",
    "        \"\"\"\n",
    "        pass\n",
    "    \n",
    "    def create_roles(self):\n",
    "        \"\"\"\n",
    "        create roles.json if not provided\n",
    "        \"\"\"\n",
    "        pass\n",
    "    \n",
    "    def create_associations(self):\n",
    "        \"\"\"\n",
    "        create master role + user json\n",
    "        \"\"\"\n",
    "        pass\n",
    "    \n",
    "    def convert_sql(self, sql_syntax):\n",
    "        \"\"\"\n",
    "        convert a query from another syntax to snow sql\n",
    "        \"\"\"\n",
    "        pass\n",
    "    \n",
    "    def create_tf(self): \n",
    "        \"\"\"\n",
    "        create terraform\n",
    "        \"\"\"\n",
    "        pass\n",
    "    \n",
    "    \n",
    "    def run_template\n"
   ]
  },
  {
   "cell_type": "code",
   "execution_count": null,
   "metadata": {},
   "outputs": [],
   "source": [
    "def test_create_users(self):\n",
    "    \"\"\"\n",
    "    create users.json if not provided\n",
    "    \"\"\"\n",
    "    pass\n",
    "\n",
    "def test_create_roles(self):\n",
    "    \"\"\"\n",
    "    create roles.json if not provided\n",
    "    \"\"\"\n",
    "    pass\n",
    "\n",
    "def test_create_associations(self):\n",
    "    \"\"\"\n",
    "    create master role + user json\n",
    "    \"\"\"\n",
    "    pass\n",
    "\n",
    "def test_convert_sql(self, sql_syntax):\n",
    "    \"\"\"\n",
    "    convert a query from another syntax to snow sql\n",
    "    \"\"\"\n",
    "    pass\n",
    "\n",
    "def test_create_tf(self): \n",
    "    \"\"\"\n",
    "    create terraform\n",
    "    \"\"\"\n",
    "    pass\n"
   ]
  }
 ],
 "metadata": {
  "kernelspec": {
   "display_name": "Python 3",
   "language": "python",
   "name": "python3"
  },
  "language_info": {
   "codemirror_mode": {
    "name": "ipython",
    "version": 3
   },
   "file_extension": ".py",
   "mimetype": "text/x-python",
   "name": "python",
   "nbconvert_exporter": "python",
   "pygments_lexer": "ipython3",
   "version": "3.7.3"
  }
 },
 "nbformat": 4,
 "nbformat_minor": 4
}
