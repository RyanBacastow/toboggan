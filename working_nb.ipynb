{
 "cells": [
  {
   "cell_type": "code",
   "execution_count": 387,
   "metadata": {},
   "outputs": [],
   "source": [
    "import jinja2\n",
    "import json\n",
    "import re\n",
    "import os"
   ]
  },
  {
   "cell_type": "code",
   "execution_count": 388,
   "metadata": {},
   "outputs": [],
   "source": [
    "#main.tf:\n",
    "\n",
    "main = \"\"\"\n",
    "provider \"snowflake\" {\n",
    "  account = \"your-snowflake-account\"\n",
    "  region  = \"your-snowflake-region\"\n",
    "}\n",
    "\"\"\""
   ]
  },
  {
   "cell_type": "code",
   "execution_count": 389,
   "metadata": {},
   "outputs": [],
   "source": [
    "#users.tf\n",
    "user_template = jinja2.Template(\n",
    "\"\"\"\n",
    "locals {\n",
    "  users = {\n",
    "    \"{{user_name}}\" = {\n",
    "      login_name = \"{{user_name}}\"\n",
    "      role       = \"{{role}}\"\n",
    "      namespace  = \"{{database}}.{{schema}}\"\n",
    "      warehouse  = \"{{warehouse}}\"\n",
    "    }\n",
    "    \"CHEESE\" = {\n",
    "      login_name = \"CHEESE_DATAENGINEER@MACANDCHEESE.COM\"\n",
    "      role       = \"TRANSFORMER\"\n",
    "      namespace  = \"DEV.PUBLIC\"\n",
    "      warehouse  = \"TRANSFORMER_WH\"\n",
    "    }\n",
    "    \"STITCH\" = {\n",
    "      login_name = \"STITCH@MACANDCHEESE.COM\"\n",
    "      role       = \"LOADER\"\n",
    "      namespace  = \"DEV.PUBLIC\"\n",
    "      warehouse  = \"LOADER_WH\"\n",
    "    }\n",
    "  }\n",
    "}\n",
    "\n",
    "resource \"snowflake_user\" \"user\" {\n",
    "  for_each             = local.users\n",
    "  name                 = each.key\n",
    "  login_name           = each.value.login_name\n",
    "  default_role         = each.value.role\n",
    "  default_namespace    = each.value.namespace\n",
    "  default_warehouse    = each.value.warehouse\n",
    "  must_change_password = false\n",
    "}\n",
    "\"\"\"\n",
    ")"
   ]
  },
  {
   "cell_type": "code",
   "execution_count": 390,
   "metadata": {},
   "outputs": [],
   "source": [
    "#roles.tf\n",
    "role_template = jinja2.Template(\"\"\"\n",
    "locals {\n",
    "  roles = {\n",
    "    \"LOADER\" = {\n",
    "      comment = \"Owns the tables in raw schema\"\n",
    "    }\n",
    "    \"TRANSFORMER\" = {\n",
    "      comment = \"Has query permissions on tables in raw schema and owns tables in the analytics schema.\"\n",
    "    }\n",
    "  }\n",
    "}\n",
    "\n",
    "resource \"snowflake_role\" \"role\" {\n",
    "  for_each = local.roles\n",
    "  name     = each.key\n",
    "  comment  = each.value.comment\n",
    "}\n",
    "\n",
    "locals {\n",
    "  schemas = {\n",
    "    \"RAW\" = {\n",
    "      database = \"DEV\"\n",
    "      comment = \"contains raw data from our source systems\"\n",
    "      usage_roles = [\"TRANSFORMER\"]\n",
    "      all_roles = [\"LOADER\"]\n",
    "    }\n",
    "    \"ANALYTICS\" = {\n",
    "      database = \"DEV\"\n",
    "      comment = \"contains tables and views accessible to analysts and reporting\"\n",
    "      usage_roles = []\n",
    "      all_roles = [\"TRANSFORMER\"]\n",
    "    }\n",
    "  }\n",
    "}\n",
    "\n",
    "resource \"snowflake_schema\" \"schema\" {\n",
    "  for_each = local.schemas\n",
    "  name     = each.key\n",
    "  database = each.value.database\n",
    "  comment  = each.value.comment\n",
    "}\n",
    "\n",
    "resource \"snowflake_schema_grant\" \"schema_grant_usage\" {\n",
    "  for_each      = local.schemas\n",
    "  schema_name   = each.key\n",
    "  database_name = each.value.database\n",
    "  privilege     = \"USAGE\"\n",
    "  roles         = each.value.usage_roles\n",
    "  shares        = []\n",
    "}\n",
    "\n",
    "resource \"snowflake_schema_grant\" \"schema_grant_all\" {\n",
    "  for_each      = local.schemas\n",
    "  schema_name   = each.key\n",
    "  database_name = each.value.database\n",
    "  privilege     = \"ALL\"\n",
    "  roles         = each.value.all_roles\n",
    "  shares        = []\n",
    "}\n",
    "\"\"\")"
   ]
  },
  {
   "cell_type": "code",
   "execution_count": 391,
   "metadata": {},
   "outputs": [],
   "source": [
    "#schema.tf\n",
    "schema_template = jinja2.Template(\"\"\"\n",
    "locals {\n",
    "  schemas = {\n",
    "    \"RAW\" = {\n",
    "      database = \"DEV\"\n",
    "      comment = \"contains raw data from our source systems\"\n",
    "      usage_roles = [\"TRANSFORMER\"]\n",
    "      all_roles = [\"LOADER\"]\n",
    "    }\n",
    "    \"ANALYTICS\" = {\n",
    "      database = \"DEV\"\n",
    "      comment = \"contains tables and views accessible to analysts and reporting\"\n",
    "      usage_roles = []\n",
    "      all_roles = [\"TRANSFORMER\"]\n",
    "    }\n",
    "  }\n",
    "}\n",
    "\n",
    "resource \"snowflake_schema\" \"schema\" {\n",
    "  for_each = local.schemas\n",
    "  name     = each.key\n",
    "  database = each.value.database\n",
    "  comment  = each.value.comment\n",
    "}\n",
    "\n",
    "resource \"snowflake_schema_grant\" \"schema_grant_usage\" {\n",
    "  for_each      = local.schemas\n",
    "  schema_name   = each.key\n",
    "  database_name = each.value.database\n",
    "  privilege     = \"USAGE\"\n",
    "  roles         = each.value.usage_roles\n",
    "  shares        = []\n",
    "}\n",
    "\n",
    "resource \"snowflake_schema_grant\" \"schema_grant_all\" {\n",
    "  for_each      = local.schemas\n",
    "  schema_name   = each.key\n",
    "  database_name = each.value.database\n",
    "  privilege     = \"ALL\"\n",
    "  roles         = each.value.all_roles\n",
    "  shares        = []\n",
    "}\n",
    "\"\"\")"
   ]
  },
  {
   "cell_type": "code",
   "execution_count": 392,
   "metadata": {},
   "outputs": [],
   "source": [
    "class Toboggan:\n",
    "    \"\"\"\n",
    "    inputs: users, roles, queries, syntax\n",
    "    outputs: users.tf, roles.tf, queries.json, main.tf, variables.tf\n",
    "    \"\"\"\n",
    "    def __init__(self, mode='create', main_tf=None, warehouses_file=None, databases_file=None, users_file=None, roles_file=None, schemas_file=None, tables_file=None, queries_file=None, queries_syntax=None):\n",
    "        self.mode = mode\n",
    "        self.sep = ' ------------------------------ '\n",
    "        self.main_tf = main_tf\n",
    "        self.warehouses_file = warehouses_file\n",
    "        self.users_file = users_file\n",
    "        self.roles_file = roles_file\n",
    "        self.schemas_file = schemas_file\n",
    "        self.tables_file = tables_file\n",
    "        self.queries_file = queries_file\n",
    "        self.queries_syntax = queries_syntax\n",
    "        self.databases_file = databases_file\n",
    "        self.warehouses = []\n",
    "        self.default_roles = [{\"name\":\"PUBLIC\", \"comment\":\"Pseudo-role that is automatically granted to every user and every role in your account. The PUBLIC role can own securable objects, just like any other role; however, the objects owned by the role are, by definition, available to every other user and role in your account.This role is typically used in cases where explicit access control is not needed and all users are viewed as equal with regard to their access rights.\"},\n",
    "                              {\"name\":\"ACCOUNTADMIN\", \"comment\":\"Role that encapsulates the SYSADMIN and SECURITYADMIN system-defined roles. It is the top-level role in the system and should be granted only to a limited/controlled number of users in your account.\"},\n",
    "                              {\"name\":\"SECURITYADMIN\", \"comment\":\"Role that can manage any object grant globally, as well as create, monitor, and manage users and roles. More specifically, this role is granted the MANAGE GRANTS security privilege to be able to modify any grant, including revoking it. Inherits the privileges of the USERADMIN role via the system role hierarchy (e.g. USERADMIN role is granted to SECURITYADMIN).\"},\n",
    "                              {\"name\":\"USERADMIN\", \"comment\":\"Role that is dedicated to user and role management only. More specifically, this role is granted the CREATE USER and CREATE ROLE security privileges. Can create and manage users and roles in the account (assuming that ownership of those roles or users has not been transferred to another role).\"},\n",
    "                              {\"name\":\"SYSADMIN\", \"comment\":\"Role that has privileges to create warehouses and databases (and other objects) in an account. If, as recommended, you create a role hierarchy that ultimately assigns all custom roles to the SYSADMIN role, this role also has the ability to grant privileges on warehouses, databases, and other objects to other roles.\"}\n",
    "                             ]\n",
    "        self.access_types = [\"USAGE: Enables using a virtual warehouse and executeing queries on the schema.\", \n",
    "                             \"ALL: Grants all privileges, except OWNERSHIP, on the schema.\",\n",
    "                             \"CANCEL: Return to roles.\"]\n",
    "        self.roles = self.default_roles.copy()\n",
    "        self.databases = []\n",
    "        self.schemas = []\n",
    "        self.tables = []\n",
    "        self.users = []\n",
    "        self.queries = []\n",
    "        \n",
    "        self.tf_out_dir = 'tf'\n",
    "        self.sql_out_dir = 'sql'\n",
    "        \n",
    "#         if queries_file:\n",
    "#             self.users = self.read_file(users_file)\n",
    "#         else:\n",
    "#             self.users = self.intake_users()\n",
    "\n",
    "    @staticmethod\n",
    "    def create_dirs(directory):\n",
    "        if not os.path.exists(directory):\n",
    "            os.makedirs(directory)\n",
    "    \n",
    "    @staticmethod\n",
    "    def clean_text(start_text, mode=\"lower\"):\n",
    "        \"\"\"\n",
    "        start_text: str : input text\n",
    "        return: str : corrected text\n",
    "        \"\"\"\n",
    "        if mode == 'lower':\n",
    "            text = start_text.lower()\n",
    "        else:\n",
    "            text = start_text.upper()\n",
    "        text = text.strip()\n",
    "        text = text.replace(\" \", \"_\")\n",
    "        text = text.replace(\"-\", \"_\")\n",
    "        text = re.sub(r'\\W+', '', text)\n",
    "\n",
    "        if start_text != text:\n",
    "            print(f\"\\nStandardized naming from {start_text} to {text}.\")\n",
    "        return text\n",
    "    \n",
    "    @staticmethod\n",
    "    def read_file(filename):\n",
    "        if '.json' in filename:\n",
    "            with open('filename') as json_file:\n",
    "                data = json.load(json_file)\n",
    "                print(data)\n",
    "        else:\n",
    "            with open('filename') as f:\n",
    "                data = f.read().splitlines()\n",
    "        \n",
    "        return data\n",
    "    \n",
    "    @staticmethod\n",
    "    def dedupe_dict_list(l):\n",
    "        deduped = [dict(t) for t in {tuple(d.items()) for d in l}]\n",
    "        return deduped\n",
    "    \n",
    "    @staticmethod\n",
    "    def make_choices(l, t, mode=None):\n",
    "        l = l.copy()\n",
    "        if mode:\n",
    "            l.extend([\"HELP\", \"CANCEL\"])\n",
    "        len_l = len(l)\n",
    "        while True:\n",
    "            print (f\"\\n{t}\")\n",
    "            for i in (range(1, len(l) + 1)):\n",
    "                print(f\"{i}. {l[i - 1]}\")\n",
    "\n",
    "            ans =  input(f\"\"\"(Choose using 1-{len_l})\\n\"\"\")\n",
    "\n",
    "            try:\n",
    "                if int(ans) not in [x for x in range(1,len_l + 1)]:\n",
    "                    print(f'\\nUse a number between 1 and {len_l}.\\n')\n",
    "                    continue\n",
    "                else:\n",
    "                    out = l[int(ans) - 1]\n",
    "                    print(f\"\\n{out} selected.\")\n",
    "                    return(out)\n",
    "            except:\n",
    "                print(f'\\nUse a number between 1 and {len_l}.\\n')\n",
    "                continue\n",
    "    \n",
    "    def intake_warehouses(self):\n",
    "        \"\"\"\n",
    "        warehouses: list: list of warehouses or empty list\n",
    "        return: list: list of warehouses populated with at least 1 warehouse\n",
    "        \"\"\"\n",
    "        warehouses = self.warehouses.copy()\n",
    "\n",
    "        print(f\"\\n{self.sep}WAREHOUSES{self.sep}\\n\")\n",
    "        print(\"A virtual warehouse, often referred to simply as a “warehouse”, is a cluster of compute resources in Snowflake. A warehouse provides the required resources, such as CPU, memory, and temporary storage\\n\")\n",
    "\n",
    "        warehouse_sizes = ['XSMALL', 'SMALL', 'MEDIUM', 'LARGE', 'XLARGE', 'XXLARGE', 'XXXLARGE', 'X4LARGE']\n",
    "        \n",
    "        while True:\n",
    "            ans = input(\"\\nDo you want to add a warehouse? y/n\\n\")\n",
    "            if ans.lower() in ['y', 'yes']:\n",
    "                warehouse = self.clean_text(input(\"\\nWhat is the warehouse name?\\n\"), mode='upper')\n",
    "                \n",
    "                if warehouse in [x['name'] for x in warehouses]:\n",
    "                    print(\"\\nWarehouse already added, please use unique names.\\n\")\n",
    "                    continue      \n",
    "                \n",
    "                elif warehouse == '':\n",
    "                    print(\"\\nPlease use valid characters.\\n\")\n",
    "                    continue\n",
    "                \n",
    "                warehouse_size = self.make_choices(warehouse_sizes, \"What size should the warehouse be?\")\n",
    "                \n",
    "                auto_resume = self.make_choices(['true', 'false'], \"Should this warehouse start when queuried automatically?\")\n",
    "                \n",
    "                while True:\n",
    "                    auto_suspend = input(f\"\\nHow long for the warehouse to suspend after inactivity? (60 - 3600 seconds)\\n\")\n",
    "                    try:\n",
    "                        if int(auto_suspend) > 3601 or int(auto_suspend) < 60:\n",
    "                            print(\"\\nUse a number between 60 and 3600\\n\")\n",
    "                            continue\n",
    "                        else:\n",
    "                            print(f\"\\nauto_suspend {auto_suspend} selected.\")\n",
    "                            break\n",
    "                            \n",
    "                    except:\n",
    "                        print(\"\\nUse a number between 60 and 3600\\n\")\n",
    "                        continue\n",
    "                \n",
    "                comment = input(f\"\\nLeave a descriptive comment to describe {warehouse}:\\n\")\n",
    "                \n",
    "                wh = {'name':warehouse, 'warehouse_size':warehouse_size, 'auto_resume':auto_resume, 'auto_suspend':auto_suspend, 'comment':comment}\n",
    "                warehouses.append(wh)\n",
    "                print(f\"\\nCreated warehouse:\")\n",
    "                for k, v in wh.items():\n",
    "                    print(f\"{k}: {v}\")\n",
    "                \n",
    "            elif ans.lower() in ['n', 'no']:\n",
    "                if len(warehouses) < 1:\n",
    "                    print(\"\\nYou have to add at least one warehouse.\\n\")\n",
    "                else:\n",
    "                    break\n",
    "            else:\n",
    "                print('\\nPlease use yes, y, no, or n\\n')\n",
    "        \n",
    "        return warehouses\n",
    "        \n",
    "        \n",
    "    def intake_roles(self):\n",
    "        \"\"\"\n",
    "        roles: list: list of roles or empty list\n",
    "        return: list : list of roles populated with at least 1 role\n",
    "        \"\"\"\n",
    "        roles = self.roles.copy()\n",
    "\n",
    "        print(f\"\\n{self.sep}ROLES{self.sep}\\n\")\n",
    "        print(\"An entity to which privileges can be granted. Roles are in turn assigned to users. Note that roles can also be assigned to other roles, creating a role hierarchy.\\n\")\n",
    "\n",
    "        while True:\n",
    "            ans = input(\"\\nDo you want to add a role? y/n\\n\")\n",
    "            if ans.lower() in ['y', 'yes']:\n",
    "                role = self.clean_text(input(\"\\nWhat is the role name?\\n\"), mode = 'upper')\n",
    "                #TODO name logic\n",
    "                \n",
    "                if role in [x['name'] for x in roles]:\n",
    "                    print(\"\\nRole already added, please use unique names.\\n\")\n",
    "                    continue\n",
    "                \n",
    "                elif role == '':\n",
    "                    print(\"\\nPlease use valid characters.\\n\")\n",
    "                    continue\n",
    "                \n",
    "                comment = input(f\"\\nLeave a descriptive comment to describe {role}:\\n\")\n",
    "                \n",
    "                r = {'name':role,'comment':comment}\n",
    "                roles.append(r)\n",
    "                \n",
    "                print(f\"\\nCreated role:\")\n",
    "                for k, v in r.items():\n",
    "                    print(f\"{k}: {v}\")\n",
    "                    \n",
    "            elif ans.lower() in ['n', 'no']:\n",
    "                if len(roles) == 0:\n",
    "                    print(\"\\nUsing default roles only.\\n\")\n",
    "                    break\n",
    "                else:\n",
    "                    break\n",
    "            else:\n",
    "                print('\\nPlease use yes, y, no, or n\\n')\n",
    "        \n",
    "        return roles\n",
    "    \n",
    "    def intake_databases(self):\n",
    "        \"\"\"\n",
    "        databases: list :list of databases or empty list\n",
    "        returns: list : list of databases populated with at least 1 database\n",
    "        \"\"\"\n",
    "        databases = self.databases.copy()\n",
    "        print(f\"\\n{self.sep}DATABASES{self.sep}\\n\")\n",
    "        print(\"A database is a logical grouping of schemas. Each database belongs to a single Snowflake account.\\n\")\n",
    "        databases = []\n",
    "        \n",
    "        while True:\n",
    "            ans = input(\"\\nDo you want to add a database? y/n\\n\")\n",
    "            if ans.lower() in ['y', 'yes']:\n",
    "                database = self.clean_text(input(\"\\nWhat is the database name?\\n\"), mode='upper')\n",
    "                \n",
    "                if database in [x['name'] for x in databases]:\n",
    "                    print(\"\\nDatabase already added, please use unique names.\\n\")\n",
    "                    continue\n",
    "                \n",
    "                elif database == '':\n",
    "                    print(\"\\nPlease use valid characters.\\n\")\n",
    "                    continue\n",
    "                \n",
    "                d = {'name': database}\n",
    "                databases.append(d)\n",
    "                print(f\"\\nAdded Database:\")\n",
    "                for k, v in d.items():\n",
    "                    print(f\"{k}: {v}\")\n",
    "                \n",
    "            elif ans.lower() in ['n', 'no']:\n",
    "                if len(databases) < 1:\n",
    "                    print(\"You have to add at least one database.\")\n",
    "                else:    \n",
    "                    break\n",
    "            else:\n",
    "                print('Please use yes, y, no, or n\\n')\n",
    "        \n",
    "        return databases\n",
    "\n",
    "    def intake_schemas(self):\n",
    "        \"\"\"\n",
    "        schemas: list of schemas or empty list\n",
    "        returns: list : list of schemas populated with at least 1 schema\n",
    "        \"\"\"\n",
    "        schemas = self.schemas.copy()\n",
    "        print(f\"\\n{self.sep}SCHEMAS{self.sep}\\n\")\n",
    "        print(\"\"\"A schema is a logical grouping of database objects (tables, views, etc.). Each schema belongs to a single database.\\n\"\"\")\n",
    "\n",
    "        schema_tracker = []\n",
    "        while True:\n",
    "            ans = input(\"\\nDo you want to add a schema? y/n\\n\")\n",
    "            if ans.lower() in ['yes', 'y']:\n",
    "                name = self.clean_text(input(\"\\nWhat is the schema name?\\n\"), mode='upper')\n",
    "                if name in schema_tracker:\n",
    "                    print(\"\\nSchema already added, please use unique names.\\n\")\n",
    "                    continue\n",
    "                elif name == '':\n",
    "                    print(\"\\nPlease use valid characters.\\n\")\n",
    "                    continue\n",
    "                else:\n",
    "                    schema_tracker.append(name)\n",
    "\n",
    "                comment = input(f\"\\nLeave a descriptive comment to describe {name}:\\n\")\n",
    "                \n",
    "                # DATABASE SELECTION\n",
    "                databases = []\n",
    "                while True:\n",
    "                    out_dict = {'name':name, 'comment':comment, 'database': None, 'usage_access':[], 'all_access':[]}\n",
    "                    ans = input(f\"\\nDo you want to add {name} to a database? y/n\\n\")\n",
    "                    if ans.lower() in ['yes', 'y']:\n",
    "                        database = self.make_choices(self.database_names, f\"Which database should {name} be created in?\")\n",
    "                        if database in databases:\n",
    "                            print(f\"\\n{name} already added to schema {database}.\\n\")\n",
    "                            continue\n",
    "                        databases.append(database)\n",
    "                        out_dict['database'] = database\n",
    "\n",
    "                    elif ans.lower() in ['n', 'no']:\n",
    "                        if len(databases) < 1:\n",
    "                            print(f\"\\nYou must add {name} to at least 1 database.\\n\")\n",
    "                            continue\n",
    "                        else:\n",
    "                            break\n",
    "                    else:\n",
    "                        print('\\nPlease use yes, y, no, or n\\n')\n",
    "                        continue\n",
    "                    \n",
    "                    #ADD TABLES\n",
    "                    # TODO\n",
    "                    \n",
    "                    #ROLE SELECTION\n",
    "                    roles = []\n",
    "                    while True:\n",
    "                        ans = input(f\"\\nDo you want to add a role to access objects in {database}.{name}? y/n\\n\")\n",
    "                        \n",
    "                        if ans.lower() in ['yes', 'y']:\n",
    "                            \n",
    "                            role = self.make_choices(self.role_names, f\"What role should have access to objects in {database}.{name}?\", mode='help')\n",
    "                            \n",
    "                            if role == 'HELP':\n",
    "                                print(self.sep + \"ROLES OVERVIEW\" + self.sep)\n",
    "                                for role in self.roles:\n",
    "                                    print(f\"\\n{role['name']} : {role['comment']}\")\n",
    "                                continue\n",
    "                                \n",
    "                            elif role == 'CANCEL':\n",
    "                                print(\"\\nCanceled.\\n\")\n",
    "                                continue\n",
    "                            \n",
    "                            if role in roles:\n",
    "                                print(f\"\\nRole {role} already associated with {database}.{name}.\\n\")\n",
    "                                continue\n",
    "\n",
    "                            #ROLE-TYPE SELECTION\n",
    "                            access_type = self.make_choices(['ALL', 'USAGE'], f\"What type of access would you like to grant to {role} on {database}.{name}?\", mode='help')\n",
    "    \n",
    "                            if access_type == 'ALL':\n",
    "                                roles.append(role)\n",
    "                                out_dict['all_access'].append(role)\n",
    "                            \n",
    "                            elif access_type == 'USAGE':\n",
    "                                roles.append(role)\n",
    "                                out_dict['usage_access'].append(role)\n",
    "                            \n",
    "                            elif access_type == 'HELP':\n",
    "                                print(f\"{self.sep}ACCESS TYPE{self.sep}\")\n",
    "                                print(\"\\nALL: Granting ALL access means the role will have permission to execute all commands on the schema and objects therein. eg CREATE TABLE, MODIFY, etc\")\n",
    "                                print(\"USAGE: Granting USAGE access enables using a schema, including executing SHOW SCHEMAS commands to list the schema details in a database.\")\n",
    "                                continue\n",
    "                                \n",
    "                            else:\n",
    "                                print(\"\\nReturning to role selection.\\n\")\n",
    "                                continue\n",
    "\n",
    "                            print(f\"\\nAdded {role} role to {access_type} access for {database}.{name}\\n\")\n",
    "                            continue\n",
    "\n",
    "                        elif ans.lower() in ['n', 'no']:\n",
    "                            #Default behavior?\n",
    "                            break\n",
    "                        else:\n",
    "                            print('\\nPlease use yes, y, no, or n\\n')\n",
    "                    \n",
    "                    schemas.append(out_dict)\n",
    "                    print(f\"\\nCreated schema:\")\n",
    "                    for k,v in out_dict.items():\n",
    "                        print(f\"{k}: {v}\")\n",
    "\n",
    "            elif ans.lower() in ['n', 'no']:\n",
    "                break\n",
    "            else:\n",
    "                print('\\nPlease use yes, y, no, or n\\n')\n",
    "                continue\n",
    "            \n",
    "        return schemas\n",
    "\n",
    "    def intake_tables(self):\n",
    "        pass\n",
    "\n",
    "    def intake_users(self):\n",
    "        \"\"\"\n",
    "        users: list of users or empty list\n",
    "        returns: list : list of users populated with at least 1 user\n",
    "        \"\"\"\n",
    "        print(f\"\\n{self.sep}USERS{self.sep}\\n\")\n",
    "        print(\"A user identity recognized by Snowflake, whether associated with a person or program.\\n\")\n",
    "        users = self.users.copy()\n",
    "        while True:\n",
    "            ans = input(\"\\nDo you want to add a user? y/n\\n\")\n",
    "            if ans.lower() in ['yes', 'y']:\n",
    "                user = {\"name\": None, \"warehouse\": None, \"namespace\": None, \"roles\":[], \"default_role\": None}\n",
    "                name = self.clean_text(input(\"\\nWhat is the user's username?\\n\"), mode='upper')\n",
    "                if name in [x['name'] for x in users]:\n",
    "                    print(f\"\\nUser '{name}' already added, please use unique names.\\n\")\n",
    "                    continue\n",
    "                elif name == '':\n",
    "                    print(\"\\nPlease use valid characters.\\n\")\n",
    "                    continue\n",
    "                else:\n",
    "                    user['name'] = name\n",
    "                \n",
    "                #ROLE SELECTION\n",
    "                roles = ['PUBLIC']\n",
    "                while True:\n",
    "                    ans = input(f\"\\nDo you want to add {name} to a role? y/n\\n\")\n",
    "                    if ans.lower() in ['yes', 'y']:\n",
    "                        role = self.make_choices(self.role_names, f\"What role should {name} have?\", mode='help')\n",
    "                        if role == 'HELP':\n",
    "                            print(\"Each user can belong to as many roles as required.\")\n",
    "                            print(self.sep + \"ROLES OVERVIEW\" + self.sep)\n",
    "                            for role in self.roles:\n",
    "                                print(f\"\\n{role['name']} : {role['comment']}\")\n",
    "                            continue\n",
    "                        elif role == 'CANCEL':\n",
    "                            print(\"\\nCanceled.\\n\")\n",
    "                            continue\n",
    "                        elif role in roles:\n",
    "                            print(f\"\\nUser '{name}' already associated with role {role}, please use unique names.\\n\")\n",
    "                            continue\n",
    "                        elif role == '':\n",
    "                            print(\"\\nPlease use valid characters.\\n\")\n",
    "                            continue\n",
    "                        else:\n",
    "                            roles.append(role)\n",
    "                    elif ans.lower() in ['no', 'n']:\n",
    "                        if len(roles) <= 1:\n",
    "                            print(\"Default PUBLIC role selected.\")\n",
    "                        user['roles'].extend(roles)\n",
    "                        break\n",
    "                \n",
    "                default_role = self.make_choices(roles, f\"Which role should be the default role for {name}?\")\n",
    "                user['default_role'] = default_role\n",
    "                \n",
    "                warehouse = self.make_choices(self.warehouse_names, f\"What warehouse should {name} use as a default?\")\n",
    "                user['warehouse'] = warehouse\n",
    "                \n",
    "                schemas = [f\"{x['database']}.{x['name']}\" for x in self.schemas]\n",
    "            \n",
    "                namespace = self.make_choices(schemas, f\"What default database and schema should {name} have?\")\n",
    "                \n",
    "                user['namespace'] = namespace\n",
    "                users.append(user)\n",
    "                print(\"\\nCreated User:\")\n",
    "                for k, v in user.items():\n",
    "                    print(f\"{k}: {v}\")\n",
    "                              \n",
    "            elif ans.lower() in ['n', 'no']:\n",
    "                if len(users) < 1:\n",
    "                    print(\"\\nYou have to add at least one user.\\n\")\n",
    "                else:\n",
    "                    break\n",
    "            else:\n",
    "                print('\\nPlease use yes, y, no, or n\\n\\n')\n",
    "        \n",
    "        return users\n",
    "    \n",
    "    def intake_queries(self):\n",
    "        pass\n",
    "    \n",
    "    def create_sql(self, filename, template, objects, fields):\n",
    "        out_str = \"\"\n",
    "        \n",
    "        for item in objects:\n",
    "            d = {}\n",
    "            for field in fields:\n",
    "                d[field] = item[field]\n",
    "            out_str += template.render(d)\n",
    "        \n",
    "        with open(f'{self.sql_out_dir}/{filename}', 'w+') as f:\n",
    "            f.write(out_str)\n",
    "            \n",
    "        return out_str\n",
    "    \n",
    "    def create_warehouses_tf(self):\n",
    "        \"\"\"\n",
    "        Add warehouses to main.tf\n",
    "        self.warehouses : {'name':warehouse, 'warehouse_size':warehouse_size, 'auto_resume':auto_resume, 'auto_suspend':auto_suspend, 'comment':comment}\n",
    "        \"\"\"\n",
    "        \n",
    "        out_str = \"\"\n",
    "        \n",
    "        template = jinja2.Template(\"\"\"\n",
    "        resource \"snowflake_warehouse\" \"warehouse_terraform\" {\n",
    "              name              =   \"{{name}}\"\n",
    "              warehouse_size    =   \"{{warehouse_size}}\"\n",
    "              auto_resume       =   {{auto_resume}}\n",
    "              auto_suspend      =   {{auto_suspend}}\n",
    "              comment           =   \"{{comment}}\"\n",
    "        }\"\"\")\n",
    "        \n",
    "        for item in self.warehouses:\n",
    "            out_str += template.render(name=item['name'],\n",
    "                                                 warehouse_size=item['warehouse_size'], \n",
    "                                                 auto_resume=item['auto_resume'], \n",
    "                                                 auto_suspend=item['auto_suspend'],\n",
    "                                                 comment=item['comment']) + \"\\n\"\n",
    "        \n",
    "        return out_str\n",
    "    \n",
    "    def create_warehouses_sql(self):\n",
    "        \"\"\"\n",
    "        Add warehouses to warehouse.sql\n",
    "        self.warehouses : {'name':warehouse, 'warehouse_size':warehouse_size, 'auto_resume':auto_resume, 'auto_suspend':auto_suspend, 'comment':comment}\n",
    "         filename, template, objects, fields\n",
    "        \"\"\"\n",
    "        \n",
    "        template = jinja2.Template(\"\"\"\\n\n",
    "CREATE OR REPLACE WAREHOUSE IF NOT EXISTS {{name}}\n",
    "WITH\n",
    "  WAREHOUSE_SIZE = '{{warehouse_size}}'\n",
    "  AUTO_SUSPEND = {{auto_suspend}}\n",
    "  AUTO_RESUME = {{auto_resume}}\n",
    "  COMMENT = '{{comment}}';\\n\"\"\")\n",
    "        \n",
    "        \n",
    "        out_str = self.create_sql('warehouses.sql', template, self.warehouses, ['name', 'warehouse_size', 'auto_suspend', 'auto_resume', 'comment'])\n",
    "        \n",
    "        print(out_str)\n",
    "        return out_str\n",
    "\n",
    "    def create_database_sql(self):\n",
    "        \"\"\"\n",
    "        Create database.sql\n",
    "        \"\"\"\n",
    "        out_str = \"\"\n",
    "        \n",
    "        template = jinja2.Template(\"\"\"\\n\n",
    "CREATE DATABASE IF NOT EXISTS {{name}}\n",
    "    COMMENT = '{{comment}}';\\n\"\"\")\n",
    "        \n",
    "        out_str = self.create_sql('databases.sql', template, self.databases, ['name', 'comment'])\n",
    "        print(out_str)\n",
    "        \n",
    "        return out_str\n",
    "        \n",
    "    def create_roles_tf(self):\n",
    "        \"\"\"\n",
    "        create roles.tf if not provided\n",
    "        self.roles : [{'name': 'role_name', 'comment':'description'}]\n",
    "        \"\"\"\n",
    "        role_template = jinja2.Template(\"\"\"            \n",
    "            locals {\n",
    "              roles = {\n",
    "               {{role_blob}}\n",
    "              }\n",
    "            }\n",
    "            \n",
    "            resource \"snowflake_role\" \"role\" {\n",
    "              for_each = local.roles\n",
    "              name     = each.key\n",
    "              comment  = each.value.comment\n",
    "            }\n",
    "\n",
    "            resource \"snowflake_role_grants\" \"role_grant\" {\n",
    "              for_each  = local.roles\n",
    "              role_name = each.key\n",
    "              users     = each.value.users\n",
    "              roles     = []\n",
    "            }\n",
    "            \"\"\")\n",
    "\n",
    "        role_insert_template = jinja2.Template(\"\"\"\n",
    "                                                \"{{role}}\" = {\n",
    "                                                  comment = \"{{comment}}\"\n",
    "                                                  users = {{users}}\n",
    "                                                }\n",
    "                                                \"\"\")\n",
    "        \n",
    "        role_blob = \"\"\"\"\"\"\n",
    "        \n",
    "        for role in self.roles:\n",
    "            out_dict = item.copy()\n",
    "            out_dict['users'] = []\n",
    "            for user in self.users:\n",
    "                if role['name'] in user['roles']:\n",
    "                    out_dict['users'] = out_dict['users'].appent(user['name'])\n",
    "            role_blob += role_insert_template.render(role=item['name'], comment=item['comment']).replace(\"'\",'\"')\n",
    "                                \n",
    "        out_str = role_template.render(roles_blob=roles_blob)\n",
    "        \n",
    "        with open(f'{self.tf_out_dir}/roles.tf', 'w+') as f:\n",
    "            f.write(out_str)   \n",
    "            \n",
    "    def create_grants_sql(self, mode='schema'):\n",
    "        \"\"\"\n",
    "        Handle associating roles with correct schemas or users.\n",
    "        #schema: {'name':name, 'comment':comment, 'database': database, 'usage_access':[ROLES], 'all_access':[ROLES]}\n",
    "        #user: {\"name\": name, \"warehouse\": warehouse, \"namespace\": namespace}\n",
    "        \"\"\"\n",
    "        out_str = \"\"\n",
    "        \n",
    "        if mode == 'schema':\n",
    "            for role in self.role_names:\n",
    "                for schema in self.schemas:\n",
    "                    if role in schema['all_roles']:\n",
    "                        out_str += f\"GRANT ALL ON SCHEMA {schema['database']}.{schema['schema']} TO ROLE {role};\\n\"\n",
    "                    elif role in schema['usage_roles']:\n",
    "                        out_str += f\"GRANT USAGE ON SCHEMA {schema['database']}.{schema['schema']} TO ROLE {role};\\n\"\n",
    "        \n",
    "        else:\n",
    "            for user in self.users:\n",
    "                for role in user['roles']:\n",
    "                    out_str += f\"GRANT ROLE {role} to USER {user['name']};\\n\"\n",
    "                out_string += f\"GRANT OPERATE ON WAREHOUSE {user['warehouse']} TO {user['name']};\"\n",
    "        return out_str\n",
    "\n",
    "    def create_roles_sql(self):\n",
    "        \"\"\"\n",
    "        Add roles to roles.sql\n",
    "        \"\"\"\n",
    "        \n",
    "        out_str = \"\"\n",
    "        \n",
    "        template = jinja2.Template(\"\"\"\\n\n",
    "CREATE ROLE IF NOT EXISTS {{name}}\n",
    "  COMMENT = '{{comment}}';\\n\"\"\")\n",
    "        \n",
    "        out_str = self.create_sql('roles.sql', template, self.roles, ['name', 'comment'])\n",
    "        print(out_str)\n",
    "                    \n",
    "        return out_str\n",
    "    \n",
    "    def create_schemas_tf(self):\n",
    "        \"\"\"\n",
    "        self.schemas : [{'name':name, 'comment':comment, 'database': database, 'usage_access':[roles], 'all_access':[roles]}]\n",
    "        \"\"\"\n",
    "        schema_template = jinja2.Template(\n",
    "            \"\"\"\n",
    "            locals {\n",
    "              schemas = {\n",
    "                {{schema_blob}}\n",
    "              }\n",
    "            }\n",
    "            resource \"snowflake_schema\" \"schema\" {\n",
    "              for_each = local.schemas\n",
    "              name     = each.key\n",
    "              database = each.value.database\n",
    "              comment  = each.value.comment\n",
    "            }\n",
    "\n",
    "            resource \"snowflake_schema_grant\" \"schema_grant_usage\" {\n",
    "              for_each      = local.schemas\n",
    "              schema_name   = each.key\n",
    "              database_name = each.value.database\n",
    "              privilege     = \"USAGE\"\n",
    "              roles         = each.value.usage_roles\n",
    "              shares        = []\n",
    "            }\n",
    "\n",
    "            resource \"snowflake_schema_grant\" \"schema_grant_all\" {\n",
    "              for_each      = local.schemas\n",
    "              schema_name   = each.key\n",
    "              database_name = each.value.database\n",
    "              privilege     = \"ALL\"\n",
    "              roles         = each.value.all_roles\n",
    "              shares        = []\n",
    "            }\n",
    "            \"\"\")\n",
    "        \n",
    "        schema_insert_template = jinja2.Template(\n",
    "            \"\"\"\n",
    "            \"{{schema}}\" = {\n",
    "                  database = \"{{database}}\"\n",
    "                  comment = \"{{comment}}\"\n",
    "                  usage_roles = {{usage_roles}}\n",
    "                  all_roles = {{all_roles}}\n",
    "                }\\n\n",
    "            \"\"\"\n",
    "        )\n",
    "            \n",
    "        schema_blob = \"\"\"\"\"\"\n",
    "            \n",
    "        for item in self.schemas:\n",
    "            schemas_blob += schema_insert_template.render(schema=item['name'], database=item['database'], usage_roles=item['usage_roles'], all_roles=item['all_roles']).replace(\"'\",'\"')\n",
    "                                \n",
    "        out_str = schema_template.render(schemas_blob=schema_blob)\n",
    "        \n",
    "        with open(f'{self.tf_out_dir}/schemas.tf', 'w+') as f:\n",
    "            f.write(out_str)\n",
    "\n",
    "    def create_schemas_sql(self):\n",
    "        \"\"\"\n",
    "        Add schemas to schemas.sql\n",
    "        \"\"\"\n",
    "        \n",
    "        out_str = \"\"\n",
    "        \n",
    "        template = jinja2.Template(\"\"\"\\n\n",
    "CREATE SCHEMA IF NOT EXISTS {{name}}\n",
    "    COMMENT = '{comment}';\\n\"\"\")\n",
    "        \n",
    "        out_str = self.create_sql('schemas.sql', template, self.schemas, ['name', 'comment'])\n",
    "        print(out_str)\n",
    "        \n",
    "        return out_str\n",
    "\n",
    "    def create_users_tf(self):\n",
    "        \"\"\"\n",
    "        self.users : [{name: None, warehouse: None, namespace: None}]\n",
    "        \"\"\"\n",
    "        user_template = jinja2.Template(\n",
    "                \"\"\"\n",
    "                locals {\n",
    "                  users = {\n",
    "                    {{user_blob}}\n",
    "                  }\n",
    "                }\n",
    "\n",
    "                resource \"snowflake_user\" \"user\" {\n",
    "                  for_each             = local.users\n",
    "                  name                 = each.key\n",
    "                  login_name           = each.value.login_name\n",
    "                  default_role         = each.value.role\n",
    "                  default_namespace    = each.value.namespace\n",
    "                  default_warehouse    = each.value.warehouse\n",
    "                  must_change_password = false\n",
    "                }\n",
    "                \"\"\")\n",
    "        \n",
    "        user_insert_template = jinja2.Template(\"\"\"\n",
    "                                                \"{{name}}\" = {\n",
    "                                                          login_name = \"{{name}}\"\n",
    "                                                          role       = \"{{role}}\"\n",
    "                                                          namespace  = \"{{namespace}}\"\n",
    "                                                          warehouse  = \"{{warehouse}}\"\n",
    "                                                        }\n",
    "                                              \"\"\")\n",
    "        \n",
    "        user_blob = \"\"\"\"\"\"\n",
    "    \n",
    "        for user in self.users:\n",
    "            user_blob += user_insert_template.render(name=user['name'], role=user['role'], namespace=user['namespace'], warehouse=user['warehouse']) + \"\\n\"\n",
    "                                \n",
    "        out_str = user_template.render(user_blob=user_blob)\n",
    "        \n",
    "        with open(f'{self.tf_out_dir}/users.tf', 'w+') as f:\n",
    "            f.write(out_str)\n",
    "    \n",
    "    def create_users_sql(self):\n",
    "        \"\"\"\n",
    "        Add users to users.sql\n",
    "        user: {name: None, warehouse: None, namespace: None}\n",
    "        \"\"\"\n",
    "        \n",
    "        out_str = \"\"\n",
    "        \n",
    "        template = jinja2.Template(\"\"\"\n",
    "CREATE USER IF NOT EXISTS {{name}}\n",
    "  PASSWORD = '{{name}}'\n",
    "  DISPLAY_NAME = '{{name}}'\n",
    "  MUST_CHANGE_PASSWORD = TRUE\n",
    "  DEFAULT_WAREHOUSE = {{warehouse}}\n",
    "  DEFAULT_NAMESPACE = {{namespace}}\n",
    "  DEFAULT_ROLE = {{default_role}}\n",
    "  COMMENT = {{comment}};\\n\n",
    "  \"\"\")\n",
    "        \n",
    "        out_str = self.create_sql('users.sql', template, self.users, ['name', 'warehouse', 'namespace', 'default_role', 'comment'])\n",
    "        print(out_str)\n",
    "        \n",
    "        return out_str\n",
    "    \n",
    "    def create_grants_file(self):\n",
    "        out_str = \"\"\n",
    "        out_str += self.create_grants_sql(mode='schema')\n",
    "        out_str += self.create_grants_sql(mode='users')\n",
    "        \n",
    "        with open(f'{self.sql_out_dir}/grants.sql', 'w+') as f:\n",
    "            f.write(out_str)\n",
    "\n",
    "    def create_main_tf(self): \n",
    "        \"\"\"\n",
    "        create terraform\n",
    "        \"\"\"\n",
    "        acct = input(\"What is your snowflake account address?\\n\")\n",
    "        region = input(\"What is your snowflake account region?\\n\")\n",
    "        main_template = jinja2.Template(\"\"\"provider \"snowflake\" {\n",
    "                                                      account = \"{{acct}}\"\n",
    "                                                      region  = \"{{region}}\"\n",
    "                                                      alias = \"sec\"\n",
    "                                                      role  = \"SECURITYADMIN\"\n",
    "                                                    }\"\"\")\n",
    "\n",
    "        out_str = main_template.render(acct=acct, region=region) + \"\\n\"\n",
    "        \n",
    "        out_str += self.create_warehouses()\n",
    "        \n",
    "        with open(f'{self.tf_out_dir}/main.tf', \"w\") as f:\n",
    "            f.write(out_str)\n",
    "            \n",
    "        \n",
    "    def convert_sql(self, sql_syntax):\n",
    "        \"\"\"\n",
    "        convert a query from another syntax to snow sql\n",
    "        \"\"\"\n",
    "        pass\n",
    "\n",
    "    def main(self):\n",
    "        \"\"\"\n",
    "        TODO\n",
    "        \"\"\"\n",
    "        # ----------------------- INTAKE ----------------------- #\n",
    "        self.warehouses = self.intake_warehouses()\n",
    "        self.warehouse_names = [x['name'] for x in self.warehouses]\n",
    "        \n",
    "        if self.roles_file:\n",
    "            self.roles = self.read_file(roles_file)\n",
    "        \n",
    "        self.roles = self.intake_roles()\n",
    "        self.role_names = [x['name'] for x in self.roles]\n",
    "\n",
    "        if self.databases_file:\n",
    "            self.databases = self.read_file(databases_file)\n",
    "        \n",
    "        self.databases = self.intake_databases()\n",
    "        self.database_names = [x['name'] for x in self.databases]\n",
    "\n",
    "        if self.schemas_file:\n",
    "            self.schemas = self.read_file(schemas_file)\n",
    "            \n",
    "        self.schemas = self.intake_schemas()\n",
    "        self.schema_names = [x['name'] for x in self.schemas]\n",
    "\n",
    "        if self.users_file:\n",
    "            self.users = self.read_file(users_file)\n",
    "        \n",
    "        self.users = self.intake_users()\n",
    "        self.user_names = [x['name'] for x in self.users]\n",
    "                   \n",
    "        # --------------------- DOC CREATION --------------------- #\n",
    "        # Main tf\n",
    "        for path in [self.tf_out_dir, self.sql_out_dir]:\n",
    "            self.create_dirs(path)\n",
    "            \n",
    "        self.create_main_tf()\n",
    "        \n",
    "        # Warehouses\n",
    "        self.create_warehouses_tf()\n",
    "        self.create_warehouses_sql()\n",
    "        \n",
    "        # Roles\n",
    "        self.create_roles_tf()\n",
    "        self.create_roles_sql()\n",
    "\n",
    "        # Schemas\n",
    "        self.create_schemas_tf()\n",
    "        self.create_schemas_sql()\n",
    "        \n",
    "        # Users\n",
    "        self.create_users_tf()\n",
    "        self.create_users_sql()        \n",
    "        # Queries\n",
    "        # TODO\n",
    "        \n",
    "        # DDLs\n",
    "        # TODO\n"
   ]
  },
  {
   "cell_type": "code",
   "execution_count": 393,
   "metadata": {},
   "outputs": [
    {
     "name": "stdout",
     "output_type": "stream",
     "text": [
      "\n",
      " ------------------------------ WAREHOUSES ------------------------------ \n",
      "\n",
      "A virtual warehouse, often referred to simply as a “warehouse”, is a cluster of compute resources in Snowflake. A warehouse provides the required resources, such as CPU, memory, and temporary storage\n",
      "\n"
     ]
    },
    {
     "name": "stdin",
     "output_type": "stream",
     "text": [
      "\n",
      "Do you want to add a warehouse? y/n\n",
      " y\n",
      "\n",
      "What is the warehouse name?\n",
      " dev wh\n"
     ]
    },
    {
     "name": "stdout",
     "output_type": "stream",
     "text": [
      "\n",
      "Standardized naming from dev wh to DEV_WH.\n",
      "\n",
      "What size should the warehouse be?\n",
      "1. XSMALL\n",
      "2. SMALL\n",
      "3. MEDIUM\n",
      "4. LARGE\n",
      "5. XLARGE\n",
      "6. XXLARGE\n",
      "7. XXXLARGE\n",
      "8. X4LARGE\n"
     ]
    },
    {
     "name": "stdin",
     "output_type": "stream",
     "text": [
      "(Choose using 1-8)\n",
      " 2\n"
     ]
    },
    {
     "name": "stdout",
     "output_type": "stream",
     "text": [
      "\n",
      "SMALL selected.\n",
      "\n",
      "Should this warehouse start when queuried automatically?\n",
      "1. true\n",
      "2. false\n"
     ]
    },
    {
     "name": "stdin",
     "output_type": "stream",
     "text": [
      "(Choose using 1-2)\n",
      " 1\n"
     ]
    },
    {
     "name": "stdout",
     "output_type": "stream",
     "text": [
      "\n",
      "true selected.\n"
     ]
    },
    {
     "name": "stdin",
     "output_type": "stream",
     "text": [
      "\n",
      "How long for the warehouse to suspend after inactivity? (60 - 3600 seconds)\n",
      " 300\n"
     ]
    },
    {
     "name": "stdout",
     "output_type": "stream",
     "text": [
      "\n",
      "auto_suspend 300 selected.\n"
     ]
    },
    {
     "name": "stdin",
     "output_type": "stream",
     "text": [
      "\n",
      "Leave a descriptive comment to describe DEV_WH:\n",
      " Developer base wh\n"
     ]
    },
    {
     "name": "stdout",
     "output_type": "stream",
     "text": [
      "\n",
      "Created warehouse:\n",
      "name: DEV_WH\n",
      "warehouse_size: SMALL\n",
      "auto_resume: true\n",
      "auto_suspend: 300\n",
      "comment: Developer base wh\n"
     ]
    },
    {
     "name": "stdin",
     "output_type": "stream",
     "text": [
      "\n",
      "Do you want to add a warehouse? y/n\n",
      " y\n",
      "\n",
      "What is the warehouse name?\n",
      " qa wh\n"
     ]
    },
    {
     "name": "stdout",
     "output_type": "stream",
     "text": [
      "\n",
      "Standardized naming from qa wh to QA_WH.\n",
      "\n",
      "What size should the warehouse be?\n",
      "1. XSMALL\n",
      "2. SMALL\n",
      "3. MEDIUM\n",
      "4. LARGE\n",
      "5. XLARGE\n",
      "6. XXLARGE\n",
      "7. XXXLARGE\n",
      "8. X4LARGE\n"
     ]
    },
    {
     "name": "stdin",
     "output_type": "stream",
     "text": [
      "(Choose using 1-8)\n",
      " 2\n"
     ]
    },
    {
     "name": "stdout",
     "output_type": "stream",
     "text": [
      "\n",
      "SMALL selected.\n",
      "\n",
      "Should this warehouse start when queuried automatically?\n",
      "1. true\n",
      "2. false\n"
     ]
    },
    {
     "name": "stdin",
     "output_type": "stream",
     "text": [
      "(Choose using 1-2)\n",
      " 1\n"
     ]
    },
    {
     "name": "stdout",
     "output_type": "stream",
     "text": [
      "\n",
      "true selected.\n"
     ]
    },
    {
     "name": "stdin",
     "output_type": "stream",
     "text": [
      "\n",
      "How long for the warehouse to suspend after inactivity? (60 - 3600 seconds)\n",
      " 300\n"
     ]
    },
    {
     "name": "stdout",
     "output_type": "stream",
     "text": [
      "\n",
      "auto_suspend 300 selected.\n"
     ]
    },
    {
     "name": "stdin",
     "output_type": "stream",
     "text": [
      "\n",
      "Leave a descriptive comment to describe QA_WH:\n",
      " QA base wh\n"
     ]
    },
    {
     "name": "stdout",
     "output_type": "stream",
     "text": [
      "\n",
      "Created warehouse:\n",
      "name: QA_WH\n",
      "warehouse_size: SMALL\n",
      "auto_resume: true\n",
      "auto_suspend: 300\n",
      "comment: QA base wh\n"
     ]
    },
    {
     "name": "stdin",
     "output_type": "stream",
     "text": [
      "\n",
      "Do you want to add a warehouse? y/n\n",
      " y\n",
      "\n",
      "What is the warehouse name?\n",
      " stg wh\n"
     ]
    },
    {
     "name": "stdout",
     "output_type": "stream",
     "text": [
      "\n",
      "Standardized naming from stg wh to STG_WH.\n",
      "\n",
      "What size should the warehouse be?\n",
      "1. XSMALL\n",
      "2. SMALL\n",
      "3. MEDIUM\n",
      "4. LARGE\n",
      "5. XLARGE\n",
      "6. XXLARGE\n",
      "7. XXXLARGE\n",
      "8. X4LARGE\n"
     ]
    },
    {
     "name": "stdin",
     "output_type": "stream",
     "text": [
      "(Choose using 1-8)\n",
      " 3\n"
     ]
    },
    {
     "name": "stdout",
     "output_type": "stream",
     "text": [
      "\n",
      "MEDIUM selected.\n",
      "\n",
      "Should this warehouse start when queuried automatically?\n",
      "1. true\n",
      "2. false\n"
     ]
    },
    {
     "name": "stdin",
     "output_type": "stream",
     "text": [
      "(Choose using 1-2)\n",
      " 1\n"
     ]
    },
    {
     "name": "stdout",
     "output_type": "stream",
     "text": [
      "\n",
      "true selected.\n"
     ]
    },
    {
     "name": "stdin",
     "output_type": "stream",
     "text": [
      "\n",
      "How long for the warehouse to suspend after inactivity? (60 - 3600 seconds)\n",
      " 300\n"
     ]
    },
    {
     "name": "stdout",
     "output_type": "stream",
     "text": [
      "\n",
      "auto_suspend 300 selected.\n"
     ]
    },
    {
     "name": "stdin",
     "output_type": "stream",
     "text": [
      "\n",
      "Leave a descriptive comment to describe STG_WH:\n",
      " Base stg wh\n"
     ]
    },
    {
     "name": "stdout",
     "output_type": "stream",
     "text": [
      "\n",
      "Created warehouse:\n",
      "name: STG_WH\n",
      "warehouse_size: MEDIUM\n",
      "auto_resume: true\n",
      "auto_suspend: 300\n",
      "comment: Base stg wh\n"
     ]
    },
    {
     "name": "stdin",
     "output_type": "stream",
     "text": [
      "\n",
      "Do you want to add a warehouse? y/n\n",
      " y\n",
      "\n",
      "What is the warehouse name?\n",
      " prod\n"
     ]
    },
    {
     "name": "stdout",
     "output_type": "stream",
     "text": [
      "\n",
      "Standardized naming from prod to PROD.\n",
      "\n",
      "What size should the warehouse be?\n",
      "1. XSMALL\n",
      "2. SMALL\n",
      "3. MEDIUM\n",
      "4. LARGE\n",
      "5. XLARGE\n",
      "6. XXLARGE\n",
      "7. XXXLARGE\n",
      "8. X4LARGE\n"
     ]
    },
    {
     "name": "stdin",
     "output_type": "stream",
     "text": [
      "(Choose using 1-8)\n",
      " 4\n"
     ]
    },
    {
     "name": "stdout",
     "output_type": "stream",
     "text": [
      "\n",
      "LARGE selected.\n",
      "\n",
      "Should this warehouse start when queuried automatically?\n",
      "1. true\n",
      "2. false\n"
     ]
    },
    {
     "name": "stdin",
     "output_type": "stream",
     "text": [
      "(Choose using 1-2)\n",
      " 1\n"
     ]
    },
    {
     "name": "stdout",
     "output_type": "stream",
     "text": [
      "\n",
      "true selected.\n"
     ]
    },
    {
     "name": "stdin",
     "output_type": "stream",
     "text": [
      "\n",
      "How long for the warehouse to suspend after inactivity? (60 - 3600 seconds)\n",
      " 100\n"
     ]
    },
    {
     "name": "stdout",
     "output_type": "stream",
     "text": [
      "\n",
      "auto_suspend 100 selected.\n"
     ]
    },
    {
     "name": "stdin",
     "output_type": "stream",
     "text": [
      "\n",
      "Leave a descriptive comment to describe PROD:\n",
      " Base Production WH. Large instance.\n"
     ]
    },
    {
     "name": "stdout",
     "output_type": "stream",
     "text": [
      "\n",
      "Created warehouse:\n",
      "name: PROD\n",
      "warehouse_size: LARGE\n",
      "auto_resume: true\n",
      "auto_suspend: 100\n",
      "comment: Base Production WH. Large instance.\n"
     ]
    },
    {
     "name": "stdin",
     "output_type": "stream",
     "text": [
      "\n",
      "Do you want to add a warehouse? y/n\n",
      " n\n"
     ]
    },
    {
     "name": "stdout",
     "output_type": "stream",
     "text": [
      "\n",
      " ------------------------------ ROLES ------------------------------ \n",
      "\n",
      "An entity to which privileges can be granted. Roles are in turn assigned to users. Note that roles can also be assigned to other roles, creating a role hierarchy.\n",
      "\n"
     ]
    },
    {
     "name": "stdin",
     "output_type": "stream",
     "text": [
      "\n",
      "Do you want to add a role? y/n\n",
      " y\n",
      "\n",
      "What is the role name?\n",
      " dev\n"
     ]
    },
    {
     "name": "stdout",
     "output_type": "stream",
     "text": [
      "\n",
      "Standardized naming from dev to DEV.\n"
     ]
    },
    {
     "name": "stdin",
     "output_type": "stream",
     "text": [
      "\n",
      "Leave a descriptive comment to describe DEV:\n",
      " Access to dev wh and dev objects\n"
     ]
    },
    {
     "name": "stdout",
     "output_type": "stream",
     "text": [
      "\n",
      "Created role:\n",
      "name: DEV\n",
      "comment: Access to dev wh and dev objects\n"
     ]
    },
    {
     "name": "stdin",
     "output_type": "stream",
     "text": [
      "\n",
      "Do you want to add a role? y/n\n",
      " y\n",
      "\n",
      "What is the role name?\n",
      " qa\n"
     ]
    },
    {
     "name": "stdout",
     "output_type": "stream",
     "text": [
      "\n",
      "Standardized naming from qa to QA.\n"
     ]
    },
    {
     "name": "stdin",
     "output_type": "stream",
     "text": [
      "\n",
      "Leave a descriptive comment to describe QA:\n",
      " Access to qa wh and qa db objects\n"
     ]
    },
    {
     "name": "stdout",
     "output_type": "stream",
     "text": [
      "\n",
      "Created role:\n",
      "name: QA\n",
      "comment: Access to qa wh and qa db objects\n"
     ]
    },
    {
     "name": "stdin",
     "output_type": "stream",
     "text": [
      "\n",
      "Do you want to add a role? y/n\n",
      " y\n",
      "\n",
      "What is the role name?\n",
      " stg\n"
     ]
    },
    {
     "name": "stdout",
     "output_type": "stream",
     "text": [
      "\n",
      "Standardized naming from stg to STG.\n"
     ]
    },
    {
     "name": "stdin",
     "output_type": "stream",
     "text": [
      "\n",
      "Leave a descriptive comment to describe STG:\n",
      " Access to stg wh and stg db objects\n"
     ]
    },
    {
     "name": "stdout",
     "output_type": "stream",
     "text": [
      "\n",
      "Created role:\n",
      "name: STG\n",
      "comment: Access to stg wh and stg db objects\n"
     ]
    },
    {
     "name": "stdin",
     "output_type": "stream",
     "text": [
      "\n",
      "Do you want to add a role? y/n\n",
      " y\n",
      "\n",
      "What is the role name?\n",
      " prod\n"
     ]
    },
    {
     "name": "stdout",
     "output_type": "stream",
     "text": [
      "\n",
      "Standardized naming from prod to PROD.\n"
     ]
    },
    {
     "name": "stdin",
     "output_type": "stream",
     "text": [
      "\n",
      "Leave a descriptive comment to describe PROD:\n",
      " Access to prod wh and prod db objects\n"
     ]
    },
    {
     "name": "stdout",
     "output_type": "stream",
     "text": [
      "\n",
      "Created role:\n",
      "name: PROD\n",
      "comment: Access to prod wh and prod db objects\n"
     ]
    },
    {
     "name": "stdin",
     "output_type": "stream",
     "text": [
      "\n",
      "Do you want to add a role? y/n\n",
      " n\n"
     ]
    },
    {
     "name": "stdout",
     "output_type": "stream",
     "text": [
      "\n",
      " ------------------------------ DATABASES ------------------------------ \n",
      "\n",
      "A database is a logical grouping of schemas. Each database belongs to a single Snowflake account.\n",
      "\n"
     ]
    },
    {
     "name": "stdin",
     "output_type": "stream",
     "text": [
      "\n",
      "Do you want to add a database? y/n\n",
      " y\n",
      "\n",
      "What is the database name?\n",
      " dev\n"
     ]
    },
    {
     "name": "stdout",
     "output_type": "stream",
     "text": [
      "\n",
      "Standardized naming from dev to DEV.\n",
      "\n",
      "Added Database:\n",
      "name: DEV\n"
     ]
    },
    {
     "name": "stdin",
     "output_type": "stream",
     "text": [
      "\n",
      "Do you want to add a database? y/n\n",
      " y\n",
      "\n",
      "What is the database name?\n",
      " qa\n"
     ]
    },
    {
     "name": "stdout",
     "output_type": "stream",
     "text": [
      "\n",
      "Standardized naming from qa to QA.\n",
      "\n",
      "Added Database:\n",
      "name: QA\n"
     ]
    },
    {
     "name": "stdin",
     "output_type": "stream",
     "text": [
      "\n",
      "Do you want to add a database? y/n\n",
      " y\n",
      "\n",
      "What is the database name?\n",
      " \n"
     ]
    },
    {
     "name": "stdout",
     "output_type": "stream",
     "text": [
      "\n",
      "Please use valid characters.\n",
      "\n"
     ]
    },
    {
     "name": "stdin",
     "output_type": "stream",
     "text": [
      "\n",
      "Do you want to add a database? y/n\n",
      " stg\n"
     ]
    },
    {
     "name": "stdout",
     "output_type": "stream",
     "text": [
      "Please use yes, y, no, or n\n",
      "\n"
     ]
    },
    {
     "name": "stdin",
     "output_type": "stream",
     "text": [
      "\n",
      "Do you want to add a database? y/n\n",
      " y\n",
      "\n",
      "What is the database name?\n",
      " stg\n"
     ]
    },
    {
     "name": "stdout",
     "output_type": "stream",
     "text": [
      "\n",
      "Standardized naming from stg to STG.\n",
      "\n",
      "Added Database:\n",
      "name: STG\n"
     ]
    },
    {
     "name": "stdin",
     "output_type": "stream",
     "text": [
      "\n",
      "Do you want to add a database? y/n\n",
      " y\n",
      "\n",
      "What is the database name?\n",
      " prod\n"
     ]
    },
    {
     "name": "stdout",
     "output_type": "stream",
     "text": [
      "\n",
      "Standardized naming from prod to PROD.\n",
      "\n",
      "Added Database:\n",
      "name: PROD\n"
     ]
    },
    {
     "name": "stdin",
     "output_type": "stream",
     "text": [
      "\n",
      "Do you want to add a database? y/n\n",
      " n\n"
     ]
    },
    {
     "name": "stdout",
     "output_type": "stream",
     "text": [
      "\n",
      " ------------------------------ SCHEMAS ------------------------------ \n",
      "\n",
      "A schema is a logical grouping of database objects (tables, views, etc.). Each schema belongs to a single database.\n",
      "\n"
     ]
    },
    {
     "name": "stdin",
     "output_type": "stream",
     "text": [
      "\n",
      "Do you want to add a schema? y/n\n",
      " y\n",
      "\n",
      "What is the schema name?\n",
      " raw\n"
     ]
    },
    {
     "name": "stdout",
     "output_type": "stream",
     "text": [
      "\n",
      "Standardized naming from raw to RAW.\n"
     ]
    },
    {
     "name": "stdin",
     "output_type": "stream",
     "text": [
      "\n",
      "Leave a descriptive comment to describe RAW:\n",
      " Raw layer where data lands in variant data type from s3 blob storage ingestion from snowpipe.\n",
      "\n",
      "Do you want to add RAW to a database? y/n\n",
      " y\n"
     ]
    },
    {
     "name": "stdout",
     "output_type": "stream",
     "text": [
      "\n",
      "Which database should RAW be created in?\n",
      "1. DEV\n",
      "2. QA\n",
      "3. STG\n",
      "4. PROD\n"
     ]
    },
    {
     "name": "stdin",
     "output_type": "stream",
     "text": [
      "(Choose using 1-4)\n",
      " 1\n"
     ]
    },
    {
     "name": "stdout",
     "output_type": "stream",
     "text": [
      "\n",
      "DEV selected.\n"
     ]
    },
    {
     "name": "stdin",
     "output_type": "stream",
     "text": [
      "\n",
      "Do you want to add a role to access objects in DEV.RAW? y/n\n",
      " y\n"
     ]
    },
    {
     "name": "stdout",
     "output_type": "stream",
     "text": [
      "\n",
      "What role should have access to objects in DEV.RAW?\n",
      "1. PUBLIC\n",
      "2. ACCOUNTADMIN\n",
      "3. SECURITYADMIN\n",
      "4. USERADMIN\n",
      "5. SYSADMIN\n",
      "6. DEV\n",
      "7. QA\n",
      "8. STG\n",
      "9. PROD\n",
      "10. HELP\n",
      "11. CANCEL\n"
     ]
    },
    {
     "name": "stdin",
     "output_type": "stream",
     "text": [
      "(Choose using 1-11)\n",
      " 6\n"
     ]
    },
    {
     "name": "stdout",
     "output_type": "stream",
     "text": [
      "\n",
      "DEV selected.\n",
      "\n",
      "What type of access would you like to grant to DEV on DEV.RAW?\n",
      "1. ALL\n",
      "2. USAGE\n",
      "3. HELP\n",
      "4. CANCEL\n"
     ]
    },
    {
     "name": "stdin",
     "output_type": "stream",
     "text": [
      "(Choose using 1-4)\n",
      " 1\n"
     ]
    },
    {
     "name": "stdout",
     "output_type": "stream",
     "text": [
      "\n",
      "ALL selected.\n",
      "\n",
      "Added DEV role to ALL access for DEV.RAW\n",
      "\n"
     ]
    },
    {
     "name": "stdin",
     "output_type": "stream",
     "text": [
      "\n",
      "Do you want to add a role to access objects in DEV.RAW? y/n\n",
      " y\n"
     ]
    },
    {
     "name": "stdout",
     "output_type": "stream",
     "text": [
      "\n",
      "What role should have access to objects in DEV.RAW?\n",
      "1. PUBLIC\n",
      "2. ACCOUNTADMIN\n",
      "3. SECURITYADMIN\n",
      "4. USERADMIN\n",
      "5. SYSADMIN\n",
      "6. DEV\n",
      "7. QA\n",
      "8. STG\n",
      "9. PROD\n",
      "10. HELP\n",
      "11. CANCEL\n"
     ]
    },
    {
     "name": "stdin",
     "output_type": "stream",
     "text": [
      "(Choose using 1-11)\n",
      " 1\n"
     ]
    },
    {
     "name": "stdout",
     "output_type": "stream",
     "text": [
      "\n",
      "PUBLIC selected.\n",
      "\n",
      "What type of access would you like to grant to PUBLIC on DEV.RAW?\n",
      "1. ALL\n",
      "2. USAGE\n",
      "3. HELP\n",
      "4. CANCEL\n"
     ]
    },
    {
     "name": "stdin",
     "output_type": "stream",
     "text": [
      "(Choose using 1-4)\n",
      " 2\n"
     ]
    },
    {
     "name": "stdout",
     "output_type": "stream",
     "text": [
      "\n",
      "USAGE selected.\n",
      "\n",
      "Added PUBLIC role to USAGE access for DEV.RAW\n",
      "\n"
     ]
    },
    {
     "name": "stdin",
     "output_type": "stream",
     "text": [
      "\n",
      "Do you want to add a role to access objects in DEV.RAW? y/n\n",
      " y\n"
     ]
    },
    {
     "name": "stdout",
     "output_type": "stream",
     "text": [
      "\n",
      "What role should have access to objects in DEV.RAW?\n",
      "1. PUBLIC\n",
      "2. ACCOUNTADMIN\n",
      "3. SECURITYADMIN\n",
      "4. USERADMIN\n",
      "5. SYSADMIN\n",
      "6. DEV\n",
      "7. QA\n",
      "8. STG\n",
      "9. PROD\n",
      "10. HELP\n",
      "11. CANCEL\n"
     ]
    },
    {
     "name": "stdin",
     "output_type": "stream",
     "text": [
      "(Choose using 1-11)\n",
      " 1\n"
     ]
    },
    {
     "name": "stdout",
     "output_type": "stream",
     "text": [
      "\n",
      "PUBLIC selected.\n",
      "\n",
      "Role PUBLIC already associated with DEV.RAW.\n",
      "\n"
     ]
    },
    {
     "name": "stdin",
     "output_type": "stream",
     "text": [
      "\n",
      "Do you want to add a role to access objects in DEV.RAW? y/n\n",
      " n\n"
     ]
    },
    {
     "name": "stdout",
     "output_type": "stream",
     "text": [
      "\n",
      "Created schema:\n",
      "name: RAW\n",
      "comment: Raw layer where data lands in variant data type from s3 blob storage ingestion from snowpipe.\n",
      "database: DEV\n",
      "usage_access: ['PUBLIC']\n",
      "all_access: ['DEV']\n"
     ]
    },
    {
     "name": "stdin",
     "output_type": "stream",
     "text": [
      "\n",
      "Do you want to add RAW to a database? y/n\n",
      " y\n"
     ]
    },
    {
     "name": "stdout",
     "output_type": "stream",
     "text": [
      "\n",
      "Which database should RAW be created in?\n",
      "1. DEV\n",
      "2. QA\n",
      "3. STG\n",
      "4. PROD\n"
     ]
    },
    {
     "name": "stdin",
     "output_type": "stream",
     "text": [
      "(Choose using 1-4)\n",
      " 2\n"
     ]
    },
    {
     "name": "stdout",
     "output_type": "stream",
     "text": [
      "\n",
      "QA selected.\n"
     ]
    },
    {
     "name": "stdin",
     "output_type": "stream",
     "text": [
      "\n",
      "Do you want to add a role to access objects in QA.RAW? y/n\n",
      " y\n"
     ]
    },
    {
     "name": "stdout",
     "output_type": "stream",
     "text": [
      "\n",
      "What role should have access to objects in QA.RAW?\n",
      "1. PUBLIC\n",
      "2. ACCOUNTADMIN\n",
      "3. SECURITYADMIN\n",
      "4. USERADMIN\n",
      "5. SYSADMIN\n",
      "6. DEV\n",
      "7. QA\n",
      "8. STG\n",
      "9. PROD\n",
      "10. HELP\n",
      "11. CANCEL\n"
     ]
    },
    {
     "name": "stdin",
     "output_type": "stream",
     "text": [
      "(Choose using 1-11)\n",
      " 7\n"
     ]
    },
    {
     "name": "stdout",
     "output_type": "stream",
     "text": [
      "\n",
      "QA selected.\n",
      "\n",
      "What type of access would you like to grant to QA on QA.RAW?\n",
      "1. ALL\n",
      "2. USAGE\n",
      "3. HELP\n",
      "4. CANCEL\n"
     ]
    },
    {
     "name": "stdin",
     "output_type": "stream",
     "text": [
      "(Choose using 1-4)\n",
      " \n"
     ]
    },
    {
     "name": "stdout",
     "output_type": "stream",
     "text": [
      "\n",
      "Use a number between 1 and 4.\n",
      "\n",
      "\n",
      "What type of access would you like to grant to QA on QA.RAW?\n",
      "1. ALL\n",
      "2. USAGE\n",
      "3. HELP\n",
      "4. CANCEL\n"
     ]
    },
    {
     "name": "stdin",
     "output_type": "stream",
     "text": [
      "(Choose using 1-4)\n",
      " 1\n"
     ]
    },
    {
     "name": "stdout",
     "output_type": "stream",
     "text": [
      "\n",
      "ALL selected.\n",
      "\n",
      "Added QA role to ALL access for QA.RAW\n",
      "\n"
     ]
    },
    {
     "name": "stdin",
     "output_type": "stream",
     "text": [
      "\n",
      "Do you want to add a role to access objects in QA.RAW? y/n\n",
      " y\n"
     ]
    },
    {
     "name": "stdout",
     "output_type": "stream",
     "text": [
      "\n",
      "What role should have access to objects in QA.RAW?\n",
      "1. PUBLIC\n",
      "2. ACCOUNTADMIN\n",
      "3. SECURITYADMIN\n",
      "4. USERADMIN\n",
      "5. SYSADMIN\n",
      "6. DEV\n",
      "7. QA\n",
      "8. STG\n",
      "9. PROD\n",
      "10. HELP\n",
      "11. CANCEL\n"
     ]
    },
    {
     "name": "stdin",
     "output_type": "stream",
     "text": [
      "(Choose using 1-11)\n",
      " 11\n"
     ]
    },
    {
     "name": "stdout",
     "output_type": "stream",
     "text": [
      "\n",
      "CANCEL selected.\n",
      "\n",
      "Canceled.\n",
      "\n"
     ]
    },
    {
     "name": "stdin",
     "output_type": "stream",
     "text": [
      "\n",
      "Do you want to add a role to access objects in QA.RAW? y/n\n",
      " n\n"
     ]
    },
    {
     "name": "stdout",
     "output_type": "stream",
     "text": [
      "\n",
      "Created schema:\n",
      "name: RAW\n",
      "comment: Raw layer where data lands in variant data type from s3 blob storage ingestion from snowpipe.\n",
      "database: QA\n",
      "usage_access: []\n",
      "all_access: ['QA']\n"
     ]
    },
    {
     "name": "stdin",
     "output_type": "stream",
     "text": [
      "\n",
      "Do you want to add RAW to a database? y/n\n",
      " y\n"
     ]
    },
    {
     "name": "stdout",
     "output_type": "stream",
     "text": [
      "\n",
      "Which database should RAW be created in?\n",
      "1. DEV\n",
      "2. QA\n",
      "3. STG\n",
      "4. PROD\n"
     ]
    },
    {
     "name": "stdin",
     "output_type": "stream",
     "text": [
      "(Choose using 1-4)\n",
      " 3\n"
     ]
    },
    {
     "name": "stdout",
     "output_type": "stream",
     "text": [
      "\n",
      "STG selected.\n"
     ]
    },
    {
     "name": "stdin",
     "output_type": "stream",
     "text": [
      "\n",
      "Do you want to add a role to access objects in STG.RAW? y/n\n",
      " y\n"
     ]
    },
    {
     "name": "stdout",
     "output_type": "stream",
     "text": [
      "\n",
      "What role should have access to objects in STG.RAW?\n",
      "1. PUBLIC\n",
      "2. ACCOUNTADMIN\n",
      "3. SECURITYADMIN\n",
      "4. USERADMIN\n",
      "5. SYSADMIN\n",
      "6. DEV\n",
      "7. QA\n",
      "8. STG\n",
      "9. PROD\n",
      "10. HELP\n",
      "11. CANCEL\n"
     ]
    },
    {
     "name": "stdin",
     "output_type": "stream",
     "text": [
      "(Choose using 1-11)\n",
      " \n"
     ]
    },
    {
     "name": "stdout",
     "output_type": "stream",
     "text": [
      "\n",
      "Use a number between 1 and 11.\n",
      "\n",
      "\n",
      "What role should have access to objects in STG.RAW?\n",
      "1. PUBLIC\n",
      "2. ACCOUNTADMIN\n",
      "3. SECURITYADMIN\n",
      "4. USERADMIN\n",
      "5. SYSADMIN\n",
      "6. DEV\n",
      "7. QA\n",
      "8. STG\n",
      "9. PROD\n",
      "10. HELP\n",
      "11. CANCEL\n"
     ]
    },
    {
     "name": "stdin",
     "output_type": "stream",
     "text": [
      "(Choose using 1-11)\n",
      " 8\n"
     ]
    },
    {
     "name": "stdout",
     "output_type": "stream",
     "text": [
      "\n",
      "STG selected.\n",
      "\n",
      "What type of access would you like to grant to STG on STG.RAW?\n",
      "1. ALL\n",
      "2. USAGE\n",
      "3. HELP\n",
      "4. CANCEL\n"
     ]
    },
    {
     "name": "stdin",
     "output_type": "stream",
     "text": [
      "(Choose using 1-4)\n",
      " 1\n"
     ]
    },
    {
     "name": "stdout",
     "output_type": "stream",
     "text": [
      "\n",
      "ALL selected.\n",
      "\n",
      "Added STG role to ALL access for STG.RAW\n",
      "\n"
     ]
    },
    {
     "name": "stdin",
     "output_type": "stream",
     "text": [
      "\n",
      "Do you want to add a role to access objects in STG.RAW? y/n\n",
      " n\n"
     ]
    },
    {
     "name": "stdout",
     "output_type": "stream",
     "text": [
      "\n",
      "Created schema:\n",
      "name: RAW\n",
      "comment: Raw layer where data lands in variant data type from s3 blob storage ingestion from snowpipe.\n",
      "database: STG\n",
      "usage_access: []\n",
      "all_access: ['STG']\n"
     ]
    },
    {
     "name": "stdin",
     "output_type": "stream",
     "text": [
      "\n",
      "Do you want to add RAW to a database? y/n\n",
      " y\n"
     ]
    },
    {
     "name": "stdout",
     "output_type": "stream",
     "text": [
      "\n",
      "Which database should RAW be created in?\n",
      "1. DEV\n",
      "2. QA\n",
      "3. STG\n",
      "4. PROD\n"
     ]
    },
    {
     "name": "stdin",
     "output_type": "stream",
     "text": [
      "(Choose using 1-4)\n",
      " 4\n"
     ]
    },
    {
     "name": "stdout",
     "output_type": "stream",
     "text": [
      "\n",
      "PROD selected.\n"
     ]
    },
    {
     "name": "stdin",
     "output_type": "stream",
     "text": [
      "\n",
      "Do you want to add a role to access objects in PROD.RAW? y/n\n",
      " y\n"
     ]
    },
    {
     "name": "stdout",
     "output_type": "stream",
     "text": [
      "\n",
      "What role should have access to objects in PROD.RAW?\n",
      "1. PUBLIC\n",
      "2. ACCOUNTADMIN\n",
      "3. SECURITYADMIN\n",
      "4. USERADMIN\n",
      "5. SYSADMIN\n",
      "6. DEV\n",
      "7. QA\n",
      "8. STG\n",
      "9. PROD\n",
      "10. HELP\n",
      "11. CANCEL\n"
     ]
    },
    {
     "name": "stdin",
     "output_type": "stream",
     "text": [
      "(Choose using 1-11)\n",
      " 9\n"
     ]
    },
    {
     "name": "stdout",
     "output_type": "stream",
     "text": [
      "\n",
      "PROD selected.\n",
      "\n",
      "What type of access would you like to grant to PROD on PROD.RAW?\n",
      "1. ALL\n",
      "2. USAGE\n",
      "3. HELP\n",
      "4. CANCEL\n"
     ]
    },
    {
     "name": "stdin",
     "output_type": "stream",
     "text": [
      "(Choose using 1-4)\n",
      " 1\n"
     ]
    },
    {
     "name": "stdout",
     "output_type": "stream",
     "text": [
      "\n",
      "ALL selected.\n",
      "\n",
      "Added PROD role to ALL access for PROD.RAW\n",
      "\n"
     ]
    },
    {
     "name": "stdin",
     "output_type": "stream",
     "text": [
      "\n",
      "Do you want to add a role to access objects in PROD.RAW? y/n\n",
      " \n"
     ]
    },
    {
     "name": "stdout",
     "output_type": "stream",
     "text": [
      "\n",
      "Please use yes, y, no, or n\n",
      "\n"
     ]
    },
    {
     "name": "stdin",
     "output_type": "stream",
     "text": [
      "\n",
      "Do you want to add a role to access objects in PROD.RAW? y/n\n",
      " n\n"
     ]
    },
    {
     "name": "stdout",
     "output_type": "stream",
     "text": [
      "\n",
      "Created schema:\n",
      "name: RAW\n",
      "comment: Raw layer where data lands in variant data type from s3 blob storage ingestion from snowpipe.\n",
      "database: PROD\n",
      "usage_access: []\n",
      "all_access: ['PROD']\n"
     ]
    },
    {
     "name": "stdin",
     "output_type": "stream",
     "text": [
      "\n",
      "Do you want to add RAW to a database? y/n\n",
      " n\n",
      "\n",
      "Do you want to add a schema? y/n\n",
      " y\n",
      "\n",
      "What is the schema name?\n",
      " refined\n"
     ]
    },
    {
     "name": "stdout",
     "output_type": "stream",
     "text": [
      "\n",
      "Standardized naming from refined to REFINED.\n"
     ]
    },
    {
     "name": "stdin",
     "output_type": "stream",
     "text": [
      "\n",
      "Leave a descriptive comment to describe REFINED:\n",
      " Structured schema layer defined by the devs using converted DDLs from Athena.\n",
      "\n",
      "Do you want to add REFINED to a database? y/n\n",
      " y\n"
     ]
    },
    {
     "name": "stdout",
     "output_type": "stream",
     "text": [
      "\n",
      "Which database should REFINED be created in?\n",
      "1. DEV\n",
      "2. QA\n",
      "3. STG\n",
      "4. PROD\n"
     ]
    },
    {
     "name": "stdin",
     "output_type": "stream",
     "text": [
      "(Choose using 1-4)\n",
      " 1\n"
     ]
    },
    {
     "name": "stdout",
     "output_type": "stream",
     "text": [
      "\n",
      "DEV selected.\n"
     ]
    },
    {
     "name": "stdin",
     "output_type": "stream",
     "text": [
      "\n",
      "Do you want to add a role to access objects in DEV.REFINED? y/n\n",
      " y\n"
     ]
    },
    {
     "name": "stdout",
     "output_type": "stream",
     "text": [
      "\n",
      "What role should have access to objects in DEV.REFINED?\n",
      "1. PUBLIC\n",
      "2. ACCOUNTADMIN\n",
      "3. SECURITYADMIN\n",
      "4. USERADMIN\n",
      "5. SYSADMIN\n",
      "6. DEV\n",
      "7. QA\n",
      "8. STG\n",
      "9. PROD\n",
      "10. HELP\n",
      "11. CANCEL\n"
     ]
    },
    {
     "name": "stdin",
     "output_type": "stream",
     "text": [
      "(Choose using 1-11)\n",
      " 6\n"
     ]
    },
    {
     "name": "stdout",
     "output_type": "stream",
     "text": [
      "\n",
      "DEV selected.\n",
      "\n",
      "What type of access would you like to grant to DEV on DEV.REFINED?\n",
      "1. ALL\n",
      "2. USAGE\n",
      "3. HELP\n",
      "4. CANCEL\n"
     ]
    },
    {
     "name": "stdin",
     "output_type": "stream",
     "text": [
      "(Choose using 1-4)\n",
      " 1\n"
     ]
    },
    {
     "name": "stdout",
     "output_type": "stream",
     "text": [
      "\n",
      "ALL selected.\n",
      "\n",
      "Added DEV role to ALL access for DEV.REFINED\n",
      "\n"
     ]
    },
    {
     "name": "stdin",
     "output_type": "stream",
     "text": [
      "\n",
      "Do you want to add a role to access objects in DEV.REFINED? y/n\n",
      " y\n"
     ]
    },
    {
     "name": "stdout",
     "output_type": "stream",
     "text": [
      "\n",
      "What role should have access to objects in DEV.REFINED?\n",
      "1. PUBLIC\n",
      "2. ACCOUNTADMIN\n",
      "3. SECURITYADMIN\n",
      "4. USERADMIN\n",
      "5. SYSADMIN\n",
      "6. DEV\n",
      "7. QA\n",
      "8. STG\n",
      "9. PROD\n",
      "10. HELP\n",
      "11. CANCEL\n"
     ]
    },
    {
     "name": "stdin",
     "output_type": "stream",
     "text": [
      "(Choose using 1-11)\n",
      " 1\n"
     ]
    },
    {
     "name": "stdout",
     "output_type": "stream",
     "text": [
      "\n",
      "PUBLIC selected.\n",
      "\n",
      "What type of access would you like to grant to PUBLIC on DEV.REFINED?\n",
      "1. ALL\n",
      "2. USAGE\n",
      "3. HELP\n",
      "4. CANCEL\n"
     ]
    },
    {
     "name": "stdin",
     "output_type": "stream",
     "text": [
      "(Choose using 1-4)\n",
      " 2\n"
     ]
    },
    {
     "name": "stdout",
     "output_type": "stream",
     "text": [
      "\n",
      "USAGE selected.\n",
      "\n",
      "Added PUBLIC role to USAGE access for DEV.REFINED\n",
      "\n"
     ]
    },
    {
     "name": "stdin",
     "output_type": "stream",
     "text": [
      "\n",
      "Do you want to add a role to access objects in DEV.REFINED? y/n\n",
      " n\n"
     ]
    },
    {
     "name": "stdout",
     "output_type": "stream",
     "text": [
      "\n",
      "Created schema:\n",
      "name: REFINED\n",
      "comment: Structured schema layer defined by the devs using converted DDLs from Athena.\n",
      "database: DEV\n",
      "usage_access: ['PUBLIC']\n",
      "all_access: ['DEV']\n"
     ]
    },
    {
     "name": "stdin",
     "output_type": "stream",
     "text": [
      "\n",
      "Do you want to add REFINED to a database? y/n\n",
      " y\n"
     ]
    },
    {
     "name": "stdout",
     "output_type": "stream",
     "text": [
      "\n",
      "Which database should REFINED be created in?\n",
      "1. DEV\n",
      "2. QA\n",
      "3. STG\n",
      "4. PROD\n"
     ]
    },
    {
     "name": "stdin",
     "output_type": "stream",
     "text": [
      "(Choose using 1-4)\n",
      " 2\n"
     ]
    },
    {
     "name": "stdout",
     "output_type": "stream",
     "text": [
      "\n",
      "QA selected.\n"
     ]
    },
    {
     "name": "stdin",
     "output_type": "stream",
     "text": [
      "\n",
      "Do you want to add a role to access objects in QA.REFINED? y/n\n",
      " y\n"
     ]
    },
    {
     "name": "stdout",
     "output_type": "stream",
     "text": [
      "\n",
      "What role should have access to objects in QA.REFINED?\n",
      "1. PUBLIC\n",
      "2. ACCOUNTADMIN\n",
      "3. SECURITYADMIN\n",
      "4. USERADMIN\n",
      "5. SYSADMIN\n",
      "6. DEV\n",
      "7. QA\n",
      "8. STG\n",
      "9. PROD\n",
      "10. HELP\n",
      "11. CANCEL\n"
     ]
    },
    {
     "name": "stdin",
     "output_type": "stream",
     "text": [
      "(Choose using 1-11)\n",
      " 7\n"
     ]
    },
    {
     "name": "stdout",
     "output_type": "stream",
     "text": [
      "\n",
      "QA selected.\n",
      "\n",
      "What type of access would you like to grant to QA on QA.REFINED?\n",
      "1. ALL\n",
      "2. USAGE\n",
      "3. HELP\n",
      "4. CANCEL\n"
     ]
    },
    {
     "name": "stdin",
     "output_type": "stream",
     "text": [
      "(Choose using 1-4)\n",
      " 1\n"
     ]
    },
    {
     "name": "stdout",
     "output_type": "stream",
     "text": [
      "\n",
      "ALL selected.\n",
      "\n",
      "Added QA role to ALL access for QA.REFINED\n",
      "\n"
     ]
    },
    {
     "name": "stdin",
     "output_type": "stream",
     "text": [
      "\n",
      "Do you want to add a role to access objects in QA.REFINED? y/n\n",
      " y\n"
     ]
    },
    {
     "name": "stdout",
     "output_type": "stream",
     "text": [
      "\n",
      "What role should have access to objects in QA.REFINED?\n",
      "1. PUBLIC\n",
      "2. ACCOUNTADMIN\n",
      "3. SECURITYADMIN\n",
      "4. USERADMIN\n",
      "5. SYSADMIN\n",
      "6. DEV\n",
      "7. QA\n",
      "8. STG\n",
      "9. PROD\n",
      "10. HELP\n",
      "11. CANCEL\n"
     ]
    },
    {
     "name": "stdin",
     "output_type": "stream",
     "text": [
      "(Choose using 1-11)\n",
      " 11\n"
     ]
    },
    {
     "name": "stdout",
     "output_type": "stream",
     "text": [
      "\n",
      "CANCEL selected.\n",
      "\n",
      "Canceled.\n",
      "\n"
     ]
    },
    {
     "name": "stdin",
     "output_type": "stream",
     "text": [
      "\n",
      "Do you want to add a role to access objects in QA.REFINED? y/n\n",
      " n\n"
     ]
    },
    {
     "name": "stdout",
     "output_type": "stream",
     "text": [
      "\n",
      "Created schema:\n",
      "name: REFINED\n",
      "comment: Structured schema layer defined by the devs using converted DDLs from Athena.\n",
      "database: QA\n",
      "usage_access: []\n",
      "all_access: ['QA']\n"
     ]
    },
    {
     "name": "stdin",
     "output_type": "stream",
     "text": [
      "\n",
      "Do you want to add REFINED to a database? y/n\n",
      " y\n"
     ]
    },
    {
     "name": "stdout",
     "output_type": "stream",
     "text": [
      "\n",
      "Which database should REFINED be created in?\n",
      "1. DEV\n",
      "2. QA\n",
      "3. STG\n",
      "4. PROD\n"
     ]
    },
    {
     "name": "stdin",
     "output_type": "stream",
     "text": [
      "(Choose using 1-4)\n",
      " 3\n"
     ]
    },
    {
     "name": "stdout",
     "output_type": "stream",
     "text": [
      "\n",
      "STG selected.\n"
     ]
    },
    {
     "name": "stdin",
     "output_type": "stream",
     "text": [
      "\n",
      "Do you want to add a role to access objects in STG.REFINED? y/n\n",
      " y\n"
     ]
    },
    {
     "name": "stdout",
     "output_type": "stream",
     "text": [
      "\n",
      "What role should have access to objects in STG.REFINED?\n",
      "1. PUBLIC\n",
      "2. ACCOUNTADMIN\n",
      "3. SECURITYADMIN\n",
      "4. USERADMIN\n",
      "5. SYSADMIN\n",
      "6. DEV\n",
      "7. QA\n",
      "8. STG\n",
      "9. PROD\n",
      "10. HELP\n",
      "11. CANCEL\n"
     ]
    },
    {
     "name": "stdin",
     "output_type": "stream",
     "text": [
      "(Choose using 1-11)\n",
      " 8\n"
     ]
    },
    {
     "name": "stdout",
     "output_type": "stream",
     "text": [
      "\n",
      "STG selected.\n",
      "\n",
      "What type of access would you like to grant to STG on STG.REFINED?\n",
      "1. ALL\n",
      "2. USAGE\n",
      "3. HELP\n",
      "4. CANCEL\n"
     ]
    },
    {
     "name": "stdin",
     "output_type": "stream",
     "text": [
      "(Choose using 1-4)\n",
      " 1\n"
     ]
    },
    {
     "name": "stdout",
     "output_type": "stream",
     "text": [
      "\n",
      "ALL selected.\n",
      "\n",
      "Added STG role to ALL access for STG.REFINED\n",
      "\n"
     ]
    },
    {
     "name": "stdin",
     "output_type": "stream",
     "text": [
      "\n",
      "Do you want to add a role to access objects in STG.REFINED? y/n\n",
      " n\n"
     ]
    },
    {
     "name": "stdout",
     "output_type": "stream",
     "text": [
      "\n",
      "Created schema:\n",
      "name: REFINED\n",
      "comment: Structured schema layer defined by the devs using converted DDLs from Athena.\n",
      "database: STG\n",
      "usage_access: []\n",
      "all_access: ['STG']\n"
     ]
    },
    {
     "name": "stdin",
     "output_type": "stream",
     "text": [
      "\n",
      "Do you want to add REFINED to a database? y/n\n",
      " y\n"
     ]
    },
    {
     "name": "stdout",
     "output_type": "stream",
     "text": [
      "\n",
      "Which database should REFINED be created in?\n",
      "1. DEV\n",
      "2. QA\n",
      "3. STG\n",
      "4. PROD\n"
     ]
    },
    {
     "name": "stdin",
     "output_type": "stream",
     "text": [
      "(Choose using 1-4)\n",
      " 4\n"
     ]
    },
    {
     "name": "stdout",
     "output_type": "stream",
     "text": [
      "\n",
      "PROD selected.\n"
     ]
    },
    {
     "name": "stdin",
     "output_type": "stream",
     "text": [
      "\n",
      "Do you want to add a role to access objects in PROD.REFINED? y/n\n",
      " y\n"
     ]
    },
    {
     "name": "stdout",
     "output_type": "stream",
     "text": [
      "\n",
      "What role should have access to objects in PROD.REFINED?\n",
      "1. PUBLIC\n",
      "2. ACCOUNTADMIN\n",
      "3. SECURITYADMIN\n",
      "4. USERADMIN\n",
      "5. SYSADMIN\n",
      "6. DEV\n",
      "7. QA\n",
      "8. STG\n",
      "9. PROD\n",
      "10. HELP\n",
      "11. CANCEL\n"
     ]
    },
    {
     "name": "stdin",
     "output_type": "stream",
     "text": [
      "(Choose using 1-11)\n",
      " 9\n"
     ]
    },
    {
     "name": "stdout",
     "output_type": "stream",
     "text": [
      "\n",
      "PROD selected.\n",
      "\n",
      "What type of access would you like to grant to PROD on PROD.REFINED?\n",
      "1. ALL\n",
      "2. USAGE\n",
      "3. HELP\n",
      "4. CANCEL\n"
     ]
    },
    {
     "name": "stdin",
     "output_type": "stream",
     "text": [
      "(Choose using 1-4)\n",
      " 1\n"
     ]
    },
    {
     "name": "stdout",
     "output_type": "stream",
     "text": [
      "\n",
      "ALL selected.\n",
      "\n",
      "Added PROD role to ALL access for PROD.REFINED\n",
      "\n"
     ]
    },
    {
     "name": "stdin",
     "output_type": "stream",
     "text": [
      "\n",
      "Do you want to add a role to access objects in PROD.REFINED? y/n\n",
      " n\n"
     ]
    },
    {
     "name": "stdout",
     "output_type": "stream",
     "text": [
      "\n",
      "Created schema:\n",
      "name: REFINED\n",
      "comment: Structured schema layer defined by the devs using converted DDLs from Athena.\n",
      "database: PROD\n",
      "usage_access: []\n",
      "all_access: ['PROD']\n"
     ]
    },
    {
     "name": "stdin",
     "output_type": "stream",
     "text": [
      "\n",
      "Do you want to add REFINED to a database? y/n\n",
      " n\n",
      "\n",
      "Do you want to add a schema? y/n\n",
      " n\n"
     ]
    },
    {
     "name": "stdout",
     "output_type": "stream",
     "text": [
      "\n",
      " ------------------------------ USERS ------------------------------ \n",
      "\n",
      "A user identity recognized by Snowflake, whether associated with a person or program.\n",
      "\n"
     ]
    },
    {
     "name": "stdin",
     "output_type": "stream",
     "text": [
      "\n",
      "Do you want to add a user? y/n\n",
      " y\n",
      "\n",
      "What is the user's username?\n",
      " ryanbacastow\n"
     ]
    },
    {
     "name": "stdout",
     "output_type": "stream",
     "text": [
      "\n",
      "Standardized naming from ryanbacastow to RYANBACASTOW.\n"
     ]
    },
    {
     "name": "stdin",
     "output_type": "stream",
     "text": [
      "\n",
      "Do you want to add RYANBACASTOW to a role? y/n\n",
      " y\n"
     ]
    },
    {
     "name": "stdout",
     "output_type": "stream",
     "text": [
      "\n",
      "What role should RYANBACASTOW have?\n",
      "1. PUBLIC\n",
      "2. ACCOUNTADMIN\n",
      "3. SECURITYADMIN\n",
      "4. USERADMIN\n",
      "5. SYSADMIN\n",
      "6. DEV\n",
      "7. QA\n",
      "8. STG\n",
      "9. PROD\n",
      "10. HELP\n",
      "11. CANCEL\n"
     ]
    },
    {
     "name": "stdin",
     "output_type": "stream",
     "text": [
      "(Choose using 1-11)\n",
      " 6\n"
     ]
    },
    {
     "name": "stdout",
     "output_type": "stream",
     "text": [
      "\n",
      "DEV selected.\n"
     ]
    },
    {
     "name": "stdin",
     "output_type": "stream",
     "text": [
      "\n",
      "Do you want to add RYANBACASTOW to a role? y/n\n",
      " y\n"
     ]
    },
    {
     "name": "stdout",
     "output_type": "stream",
     "text": [
      "\n",
      "What role should RYANBACASTOW have?\n",
      "1. PUBLIC\n",
      "2. ACCOUNTADMIN\n",
      "3. SECURITYADMIN\n",
      "4. USERADMIN\n",
      "5. SYSADMIN\n",
      "6. DEV\n",
      "7. QA\n",
      "8. STG\n",
      "9. PROD\n",
      "10. HELP\n",
      "11. CANCEL\n"
     ]
    },
    {
     "name": "stdin",
     "output_type": "stream",
     "text": [
      "(Choose using 1-11)\n",
      " 7\n"
     ]
    },
    {
     "name": "stdout",
     "output_type": "stream",
     "text": [
      "\n",
      "QA selected.\n"
     ]
    },
    {
     "name": "stdin",
     "output_type": "stream",
     "text": [
      "\n",
      "Do you want to add RYANBACASTOW to a role? y/n\n",
      " y\n"
     ]
    },
    {
     "name": "stdout",
     "output_type": "stream",
     "text": [
      "\n",
      "What role should RYANBACASTOW have?\n",
      "1. PUBLIC\n",
      "2. ACCOUNTADMIN\n",
      "3. SECURITYADMIN\n",
      "4. USERADMIN\n",
      "5. SYSADMIN\n",
      "6. DEV\n",
      "7. QA\n",
      "8. STG\n",
      "9. PROD\n",
      "10. HELP\n",
      "11. CANCEL\n"
     ]
    },
    {
     "name": "stdin",
     "output_type": "stream",
     "text": [
      "(Choose using 1-11)\n",
      " 8\n"
     ]
    },
    {
     "name": "stdout",
     "output_type": "stream",
     "text": [
      "\n",
      "STG selected.\n"
     ]
    },
    {
     "name": "stdin",
     "output_type": "stream",
     "text": [
      "\n",
      "Do you want to add RYANBACASTOW to a role? y/n\n",
      " y\n"
     ]
    },
    {
     "name": "stdout",
     "output_type": "stream",
     "text": [
      "\n",
      "What role should RYANBACASTOW have?\n",
      "1. PUBLIC\n",
      "2. ACCOUNTADMIN\n",
      "3. SECURITYADMIN\n",
      "4. USERADMIN\n",
      "5. SYSADMIN\n",
      "6. DEV\n",
      "7. QA\n",
      "8. STG\n",
      "9. PROD\n",
      "10. HELP\n",
      "11. CANCEL\n"
     ]
    },
    {
     "name": "stdin",
     "output_type": "stream",
     "text": [
      "(Choose using 1-11)\n",
      " 9\n"
     ]
    },
    {
     "name": "stdout",
     "output_type": "stream",
     "text": [
      "\n",
      "PROD selected.\n"
     ]
    },
    {
     "name": "stdin",
     "output_type": "stream",
     "text": [
      "\n",
      "Do you want to add RYANBACASTOW to a role? y/n\n",
      " y\n"
     ]
    },
    {
     "name": "stdout",
     "output_type": "stream",
     "text": [
      "\n",
      "What role should RYANBACASTOW have?\n",
      "1. PUBLIC\n",
      "2. ACCOUNTADMIN\n",
      "3. SECURITYADMIN\n",
      "4. USERADMIN\n",
      "5. SYSADMIN\n",
      "6. DEV\n",
      "7. QA\n",
      "8. STG\n",
      "9. PROD\n",
      "10. HELP\n",
      "11. CANCEL\n"
     ]
    },
    {
     "name": "stdin",
     "output_type": "stream",
     "text": [
      "(Choose using 1-11)\n",
      " 2\n"
     ]
    },
    {
     "name": "stdout",
     "output_type": "stream",
     "text": [
      "\n",
      "ACCOUNTADMIN selected.\n"
     ]
    },
    {
     "name": "stdin",
     "output_type": "stream",
     "text": [
      "\n",
      "Do you want to add RYANBACASTOW to a role? y/n\n",
      " n\n"
     ]
    },
    {
     "name": "stdout",
     "output_type": "stream",
     "text": [
      "\n",
      "Which role should be the default role for RYANBACASTOW?\n",
      "1. PUBLIC\n",
      "2. DEV\n",
      "3. QA\n",
      "4. STG\n",
      "5. PROD\n",
      "6. ACCOUNTADMIN\n"
     ]
    },
    {
     "name": "stdin",
     "output_type": "stream",
     "text": [
      "(Choose using 1-6)\n",
      " 6\n"
     ]
    },
    {
     "name": "stdout",
     "output_type": "stream",
     "text": [
      "\n",
      "ACCOUNTADMIN selected.\n",
      "\n",
      "What warehouse should RYANBACASTOW use as a default?\n",
      "1. DEV_WH\n",
      "2. QA_WH\n",
      "3. STG_WH\n",
      "4. PROD\n"
     ]
    },
    {
     "name": "stdin",
     "output_type": "stream",
     "text": [
      "(Choose using 1-4)\n",
      " \n"
     ]
    },
    {
     "name": "stdout",
     "output_type": "stream",
     "text": [
      "\n",
      "Use a number between 1 and 4.\n",
      "\n",
      "\n",
      "What warehouse should RYANBACASTOW use as a default?\n",
      "1. DEV_WH\n",
      "2. QA_WH\n",
      "3. STG_WH\n",
      "4. PROD\n"
     ]
    },
    {
     "name": "stdin",
     "output_type": "stream",
     "text": [
      "(Choose using 1-4)\n",
      " 1\n"
     ]
    },
    {
     "name": "stdout",
     "output_type": "stream",
     "text": [
      "\n",
      "DEV_WH selected.\n",
      "\n",
      "What default database and schema should RYANBACASTOW have?\n",
      "1. DEV.RAW\n",
      "2. QA.RAW\n",
      "3. STG.RAW\n",
      "4. PROD.RAW\n",
      "5. DEV.REFINED\n",
      "6. QA.REFINED\n",
      "7. STG.REFINED\n",
      "8. PROD.REFINED\n"
     ]
    },
    {
     "name": "stdin",
     "output_type": "stream",
     "text": [
      "(Choose using 1-8)\n",
      " 1\n"
     ]
    },
    {
     "name": "stdout",
     "output_type": "stream",
     "text": [
      "\n",
      "DEV.RAW selected.\n",
      "\n",
      "Created User:\n",
      "name: RYANBACASTOW\n",
      "warehouse: DEV_WH\n",
      "namespace: DEV.RAW\n",
      "roles: ['PUBLIC', 'DEV', 'QA', 'STG', 'PROD', 'ACCOUNTADMIN']\n",
      "default_role: ACCOUNTADMIN\n"
     ]
    },
    {
     "name": "stdin",
     "output_type": "stream",
     "text": [
      "\n",
      "Do you want to add a user? y/n\n",
      " y\n",
      "\n",
      "What is the user's username?\n",
      " developer\n"
     ]
    },
    {
     "name": "stdout",
     "output_type": "stream",
     "text": [
      "\n",
      "Standardized naming from developer to DEVELOPER.\n"
     ]
    },
    {
     "name": "stdin",
     "output_type": "stream",
     "text": [
      "\n",
      "Do you want to add DEVELOPER to a role? y/n\n",
      " y\n"
     ]
    },
    {
     "name": "stdout",
     "output_type": "stream",
     "text": [
      "\n",
      "What role should DEVELOPER have?\n",
      "1. PUBLIC\n",
      "2. ACCOUNTADMIN\n",
      "3. SECURITYADMIN\n",
      "4. USERADMIN\n",
      "5. SYSADMIN\n",
      "6. DEV\n",
      "7. QA\n",
      "8. STG\n",
      "9. PROD\n",
      "10. HELP\n",
      "11. CANCEL\n"
     ]
    },
    {
     "name": "stdin",
     "output_type": "stream",
     "text": [
      "(Choose using 1-11)\n",
      " 6\n"
     ]
    },
    {
     "name": "stdout",
     "output_type": "stream",
     "text": [
      "\n",
      "DEV selected.\n"
     ]
    },
    {
     "name": "stdin",
     "output_type": "stream",
     "text": [
      "\n",
      "Do you want to add DEVELOPER to a role? y/n\n",
      " n\n"
     ]
    },
    {
     "name": "stdout",
     "output_type": "stream",
     "text": [
      "\n",
      "Which role should be the default role for DEVELOPER?\n",
      "1. PUBLIC\n",
      "2. DEV\n"
     ]
    },
    {
     "name": "stdin",
     "output_type": "stream",
     "text": [
      "(Choose using 1-2)\n",
      " 2\n"
     ]
    },
    {
     "name": "stdout",
     "output_type": "stream",
     "text": [
      "\n",
      "DEV selected.\n",
      "\n",
      "What warehouse should DEVELOPER use as a default?\n",
      "1. DEV_WH\n",
      "2. QA_WH\n",
      "3. STG_WH\n",
      "4. PROD\n"
     ]
    },
    {
     "name": "stdin",
     "output_type": "stream",
     "text": [
      "(Choose using 1-4)\n",
      " 1\n"
     ]
    },
    {
     "name": "stdout",
     "output_type": "stream",
     "text": [
      "\n",
      "DEV_WH selected.\n",
      "\n",
      "What default database and schema should DEVELOPER have?\n",
      "1. DEV.RAW\n",
      "2. QA.RAW\n",
      "3. STG.RAW\n",
      "4. PROD.RAW\n",
      "5. DEV.REFINED\n",
      "6. QA.REFINED\n",
      "7. STG.REFINED\n",
      "8. PROD.REFINED\n"
     ]
    },
    {
     "name": "stdin",
     "output_type": "stream",
     "text": [
      "(Choose using 1-8)\n",
      " 1\n"
     ]
    },
    {
     "name": "stdout",
     "output_type": "stream",
     "text": [
      "\n",
      "DEV.RAW selected.\n",
      "\n",
      "Created User:\n",
      "name: DEVELOPER\n",
      "warehouse: DEV_WH\n",
      "namespace: DEV.RAW\n",
      "roles: ['PUBLIC', 'DEV']\n",
      "default_role: DEV\n"
     ]
    },
    {
     "name": "stdin",
     "output_type": "stream",
     "text": [
      "\n",
      "Do you want to add a user? y/n\n",
      " y\n",
      "\n",
      "What is the user's username?\n",
      " QA USER\n"
     ]
    },
    {
     "name": "stdout",
     "output_type": "stream",
     "text": [
      "\n",
      "Standardized naming from QA USER to QA_USER.\n"
     ]
    },
    {
     "name": "stdin",
     "output_type": "stream",
     "text": [
      "\n",
      "Do you want to add QA_USER to a role? y/n\n",
      " y\n"
     ]
    },
    {
     "name": "stdout",
     "output_type": "stream",
     "text": [
      "\n",
      "What role should QA_USER have?\n",
      "1. PUBLIC\n",
      "2. ACCOUNTADMIN\n",
      "3. SECURITYADMIN\n",
      "4. USERADMIN\n",
      "5. SYSADMIN\n",
      "6. DEV\n",
      "7. QA\n",
      "8. STG\n",
      "9. PROD\n",
      "10. HELP\n",
      "11. CANCEL\n"
     ]
    },
    {
     "name": "stdin",
     "output_type": "stream",
     "text": [
      "(Choose using 1-11)\n",
      " 7\n"
     ]
    },
    {
     "name": "stdout",
     "output_type": "stream",
     "text": [
      "\n",
      "QA selected.\n"
     ]
    },
    {
     "name": "stdin",
     "output_type": "stream",
     "text": [
      "\n",
      "Do you want to add QA_USER to a role? y/n\n",
      " y\n"
     ]
    },
    {
     "name": "stdout",
     "output_type": "stream",
     "text": [
      "\n",
      "What role should QA_USER have?\n",
      "1. PUBLIC\n",
      "2. ACCOUNTADMIN\n",
      "3. SECURITYADMIN\n",
      "4. USERADMIN\n",
      "5. SYSADMIN\n",
      "6. DEV\n",
      "7. QA\n",
      "8. STG\n",
      "9. PROD\n",
      "10. HELP\n",
      "11. CANCEL\n"
     ]
    },
    {
     "name": "stdin",
     "output_type": "stream",
     "text": [
      "(Choose using 1-11)\n",
      " 8\n"
     ]
    },
    {
     "name": "stdout",
     "output_type": "stream",
     "text": [
      "\n",
      "STG selected.\n"
     ]
    },
    {
     "name": "stdin",
     "output_type": "stream",
     "text": [
      "\n",
      "Do you want to add QA_USER to a role? y/n\n",
      " n\n"
     ]
    },
    {
     "name": "stdout",
     "output_type": "stream",
     "text": [
      "\n",
      "Which role should be the default role for QA_USER?\n",
      "1. PUBLIC\n",
      "2. QA\n",
      "3. STG\n"
     ]
    },
    {
     "name": "stdin",
     "output_type": "stream",
     "text": [
      "(Choose using 1-3)\n",
      " 2\n"
     ]
    },
    {
     "name": "stdout",
     "output_type": "stream",
     "text": [
      "\n",
      "QA selected.\n",
      "\n",
      "What warehouse should QA_USER use as a default?\n",
      "1. DEV_WH\n",
      "2. QA_WH\n",
      "3. STG_WH\n",
      "4. PROD\n"
     ]
    },
    {
     "name": "stdin",
     "output_type": "stream",
     "text": [
      "(Choose using 1-4)\n",
      " 2\n"
     ]
    },
    {
     "name": "stdout",
     "output_type": "stream",
     "text": [
      "\n",
      "QA_WH selected.\n",
      "\n",
      "What default database and schema should QA_USER have?\n",
      "1. DEV.RAW\n",
      "2. QA.RAW\n",
      "3. STG.RAW\n",
      "4. PROD.RAW\n",
      "5. DEV.REFINED\n",
      "6. QA.REFINED\n",
      "7. STG.REFINED\n",
      "8. PROD.REFINED\n"
     ]
    },
    {
     "name": "stdin",
     "output_type": "stream",
     "text": [
      "(Choose using 1-8)\n",
      " 6\n"
     ]
    },
    {
     "name": "stdout",
     "output_type": "stream",
     "text": [
      "\n",
      "QA.REFINED selected.\n",
      "\n",
      "Created User:\n",
      "name: QA_USER\n",
      "warehouse: QA_WH\n",
      "namespace: QA.REFINED\n",
      "roles: ['PUBLIC', 'QA', 'STG']\n",
      "default_role: QA\n"
     ]
    },
    {
     "name": "stdin",
     "output_type": "stream",
     "text": [
      "\n",
      "Do you want to add a user? y/n\n",
      " y\n",
      "\n",
      "What is the user's username?\n",
      " stg user\n"
     ]
    },
    {
     "name": "stdout",
     "output_type": "stream",
     "text": [
      "\n",
      "Standardized naming from stg user to STG_USER.\n"
     ]
    },
    {
     "name": "stdin",
     "output_type": "stream",
     "text": [
      "\n",
      "Do you want to add STG_USER to a role? y/n\n",
      " y\n"
     ]
    },
    {
     "name": "stdout",
     "output_type": "stream",
     "text": [
      "\n",
      "What role should STG_USER have?\n",
      "1. PUBLIC\n",
      "2. ACCOUNTADMIN\n",
      "3. SECURITYADMIN\n",
      "4. USERADMIN\n",
      "5. SYSADMIN\n",
      "6. DEV\n",
      "7. QA\n",
      "8. STG\n",
      "9. PROD\n",
      "10. HELP\n",
      "11. CANCEL\n"
     ]
    },
    {
     "name": "stdin",
     "output_type": "stream",
     "text": [
      "(Choose using 1-11)\n",
      " 8\n"
     ]
    },
    {
     "name": "stdout",
     "output_type": "stream",
     "text": [
      "\n",
      "STG selected.\n"
     ]
    },
    {
     "name": "stdin",
     "output_type": "stream",
     "text": [
      "\n",
      "Do you want to add STG_USER to a role? y/n\n",
      " n\n"
     ]
    },
    {
     "name": "stdout",
     "output_type": "stream",
     "text": [
      "\n",
      "Which role should be the default role for STG_USER?\n",
      "1. PUBLIC\n",
      "2. STG\n"
     ]
    },
    {
     "name": "stdin",
     "output_type": "stream",
     "text": [
      "(Choose using 1-2)\n",
      " 2\n"
     ]
    },
    {
     "name": "stdout",
     "output_type": "stream",
     "text": [
      "\n",
      "STG selected.\n",
      "\n",
      "What warehouse should STG_USER use as a default?\n",
      "1. DEV_WH\n",
      "2. QA_WH\n",
      "3. STG_WH\n",
      "4. PROD\n"
     ]
    },
    {
     "name": "stdin",
     "output_type": "stream",
     "text": [
      "(Choose using 1-4)\n",
      " 3\n"
     ]
    },
    {
     "name": "stdout",
     "output_type": "stream",
     "text": [
      "\n",
      "STG_WH selected.\n",
      "\n",
      "What default database and schema should STG_USER have?\n",
      "1. DEV.RAW\n",
      "2. QA.RAW\n",
      "3. STG.RAW\n",
      "4. PROD.RAW\n",
      "5. DEV.REFINED\n",
      "6. QA.REFINED\n",
      "7. STG.REFINED\n",
      "8. PROD.REFINED\n"
     ]
    },
    {
     "name": "stdin",
     "output_type": "stream",
     "text": [
      "(Choose using 1-8)\n",
      " 7\n"
     ]
    },
    {
     "name": "stdout",
     "output_type": "stream",
     "text": [
      "\n",
      "STG.REFINED selected.\n",
      "\n",
      "Created User:\n",
      "name: STG_USER\n",
      "warehouse: STG_WH\n",
      "namespace: STG.REFINED\n",
      "roles: ['PUBLIC', 'STG']\n",
      "default_role: STG\n"
     ]
    },
    {
     "name": "stdin",
     "output_type": "stream",
     "text": [
      "\n",
      "Do you want to add a user? y/n\n",
      " y\n",
      "\n",
      "What is the user's username?\n",
      " prod user\n"
     ]
    },
    {
     "name": "stdout",
     "output_type": "stream",
     "text": [
      "\n",
      "Standardized naming from prod user to PROD_USER.\n"
     ]
    },
    {
     "name": "stdin",
     "output_type": "stream",
     "text": [
      "\n",
      "Do you want to add PROD_USER to a role? y/n\n",
      " y\n"
     ]
    },
    {
     "name": "stdout",
     "output_type": "stream",
     "text": [
      "\n",
      "What role should PROD_USER have?\n",
      "1. PUBLIC\n",
      "2. ACCOUNTADMIN\n",
      "3. SECURITYADMIN\n",
      "4. USERADMIN\n",
      "5. SYSADMIN\n",
      "6. DEV\n",
      "7. QA\n",
      "8. STG\n",
      "9. PROD\n",
      "10. HELP\n",
      "11. CANCEL\n"
     ]
    },
    {
     "name": "stdin",
     "output_type": "stream",
     "text": [
      "(Choose using 1-11)\n",
      " 9\n"
     ]
    },
    {
     "name": "stdout",
     "output_type": "stream",
     "text": [
      "\n",
      "PROD selected.\n"
     ]
    },
    {
     "name": "stdin",
     "output_type": "stream",
     "text": [
      "\n",
      "Do you want to add PROD_USER to a role? y/n\n",
      " n\n"
     ]
    },
    {
     "name": "stdout",
     "output_type": "stream",
     "text": [
      "\n",
      "Which role should be the default role for PROD_USER?\n",
      "1. PUBLIC\n",
      "2. PROD\n"
     ]
    },
    {
     "name": "stdin",
     "output_type": "stream",
     "text": [
      "(Choose using 1-2)\n",
      " 2\n"
     ]
    },
    {
     "name": "stdout",
     "output_type": "stream",
     "text": [
      "\n",
      "PROD selected.\n",
      "\n",
      "What warehouse should PROD_USER use as a default?\n",
      "1. DEV_WH\n",
      "2. QA_WH\n",
      "3. STG_WH\n",
      "4. PROD\n"
     ]
    },
    {
     "name": "stdin",
     "output_type": "stream",
     "text": [
      "(Choose using 1-4)\n",
      " 4\n"
     ]
    },
    {
     "name": "stdout",
     "output_type": "stream",
     "text": [
      "\n",
      "PROD selected.\n",
      "\n",
      "What default database and schema should PROD_USER have?\n",
      "1. DEV.RAW\n",
      "2. QA.RAW\n",
      "3. STG.RAW\n",
      "4. PROD.RAW\n",
      "5. DEV.REFINED\n",
      "6. QA.REFINED\n",
      "7. STG.REFINED\n",
      "8. PROD.REFINED\n"
     ]
    },
    {
     "name": "stdin",
     "output_type": "stream",
     "text": [
      "(Choose using 1-8)\n",
      " 8\n"
     ]
    },
    {
     "name": "stdout",
     "output_type": "stream",
     "text": [
      "\n",
      "PROD.REFINED selected.\n",
      "\n",
      "Created User:\n",
      "name: PROD_USER\n",
      "warehouse: PROD\n",
      "namespace: PROD.REFINED\n",
      "roles: ['PUBLIC', 'PROD']\n",
      "default_role: PROD\n"
     ]
    },
    {
     "name": "stdin",
     "output_type": "stream",
     "text": [
      "\n",
      "Do you want to add a user? y/n\n",
      " n\n",
      "What is your snowflake account address?\n",
      " kxa91519.us-east-1\n",
      "What is your snowflake account region?\n",
      " us-east-1\n"
     ]
    },
    {
     "ename": "AttributeError",
     "evalue": "'Toboggan' object has no attribute 'create_warehouses'",
     "output_type": "error",
     "traceback": [
      "\u001b[0;31m---------------------------------------------------------------------------\u001b[0m",
      "\u001b[0;31mAttributeError\u001b[0m                            Traceback (most recent call last)",
      "\u001b[0;32m<ipython-input-393-f5b3319dcc9a>\u001b[0m in \u001b[0;36m<module>\u001b[0;34m\u001b[0m\n\u001b[1;32m      1\u001b[0m \u001b[0mT\u001b[0m \u001b[0;34m=\u001b[0m \u001b[0mToboggan\u001b[0m\u001b[0;34m(\u001b[0m\u001b[0mmode\u001b[0m\u001b[0;34m=\u001b[0m\u001b[0;34m'create'\u001b[0m\u001b[0;34m)\u001b[0m\u001b[0;34m\u001b[0m\u001b[0;34m\u001b[0m\u001b[0m\n\u001b[1;32m      2\u001b[0m \u001b[0;34m\u001b[0m\u001b[0m\n\u001b[0;32m----> 3\u001b[0;31m \u001b[0mT\u001b[0m\u001b[0;34m.\u001b[0m\u001b[0mmain\u001b[0m\u001b[0;34m(\u001b[0m\u001b[0;34m)\u001b[0m\u001b[0;34m\u001b[0m\u001b[0;34m\u001b[0m\u001b[0m\n\u001b[0m",
      "\u001b[0;32m<ipython-input-392-061b4321b787>\u001b[0m in \u001b[0;36mmain\u001b[0;34m(self)\u001b[0m\n\u001b[1;32m    827\u001b[0m             \u001b[0mself\u001b[0m\u001b[0;34m.\u001b[0m\u001b[0mcreate_dirs\u001b[0m\u001b[0;34m(\u001b[0m\u001b[0mpath\u001b[0m\u001b[0;34m)\u001b[0m\u001b[0;34m\u001b[0m\u001b[0;34m\u001b[0m\u001b[0m\n\u001b[1;32m    828\u001b[0m \u001b[0;34m\u001b[0m\u001b[0m\n\u001b[0;32m--> 829\u001b[0;31m         \u001b[0mself\u001b[0m\u001b[0;34m.\u001b[0m\u001b[0mcreate_main_tf\u001b[0m\u001b[0;34m(\u001b[0m\u001b[0;34m)\u001b[0m\u001b[0;34m\u001b[0m\u001b[0;34m\u001b[0m\u001b[0m\n\u001b[0m\u001b[1;32m    830\u001b[0m \u001b[0;34m\u001b[0m\u001b[0m\n\u001b[1;32m    831\u001b[0m         \u001b[0;31m# Warehouses\u001b[0m\u001b[0;34m\u001b[0m\u001b[0;34m\u001b[0m\u001b[0;34m\u001b[0m\u001b[0m\n",
      "\u001b[0;32m<ipython-input-392-061b4321b787>\u001b[0m in \u001b[0;36mcreate_main_tf\u001b[0;34m(self)\u001b[0m\n\u001b[1;32m    778\u001b[0m         \u001b[0mout_str\u001b[0m \u001b[0;34m=\u001b[0m \u001b[0mmain_template\u001b[0m\u001b[0;34m.\u001b[0m\u001b[0mrender\u001b[0m\u001b[0;34m(\u001b[0m\u001b[0macct\u001b[0m\u001b[0;34m=\u001b[0m\u001b[0macct\u001b[0m\u001b[0;34m,\u001b[0m \u001b[0mregion\u001b[0m\u001b[0;34m=\u001b[0m\u001b[0mregion\u001b[0m\u001b[0;34m)\u001b[0m \u001b[0;34m+\u001b[0m \u001b[0;34m\"\\n\"\u001b[0m\u001b[0;34m\u001b[0m\u001b[0;34m\u001b[0m\u001b[0m\n\u001b[1;32m    779\u001b[0m \u001b[0;34m\u001b[0m\u001b[0m\n\u001b[0;32m--> 780\u001b[0;31m         \u001b[0mout_str\u001b[0m \u001b[0;34m+=\u001b[0m \u001b[0mself\u001b[0m\u001b[0;34m.\u001b[0m\u001b[0mcreate_warehouses\u001b[0m\u001b[0;34m(\u001b[0m\u001b[0;34m)\u001b[0m\u001b[0;34m\u001b[0m\u001b[0;34m\u001b[0m\u001b[0m\n\u001b[0m\u001b[1;32m    781\u001b[0m \u001b[0;34m\u001b[0m\u001b[0m\n\u001b[1;32m    782\u001b[0m         \u001b[0;32mwith\u001b[0m \u001b[0mopen\u001b[0m\u001b[0;34m(\u001b[0m\u001b[0;34mf'{self.tf_out_dir}/main.tf'\u001b[0m\u001b[0;34m,\u001b[0m \u001b[0;34m\"w\"\u001b[0m\u001b[0;34m)\u001b[0m \u001b[0;32mas\u001b[0m \u001b[0mf\u001b[0m\u001b[0;34m:\u001b[0m\u001b[0;34m\u001b[0m\u001b[0;34m\u001b[0m\u001b[0m\n",
      "\u001b[0;31mAttributeError\u001b[0m: 'Toboggan' object has no attribute 'create_warehouses'"
     ]
    }
   ],
   "source": [
    "T = Toboggan(mode='create')\n",
    "\n",
    "T.main()"
   ]
  },
  {
   "cell_type": "code",
   "execution_count": 394,
   "metadata": {},
   "outputs": [],
   "source": [
    "holder = T"
   ]
  },
  {
   "cell_type": "code",
   "execution_count": 395,
   "metadata": {},
   "outputs": [
    {
     "data": {
      "text/plain": [
       "[{'name': 'DEV'}, {'name': 'QA'}, {'name': 'STG'}, {'name': 'PROD'}]"
      ]
     },
     "execution_count": 395,
     "metadata": {},
     "output_type": "execute_result"
    }
   ],
   "source": [
    "holder.database"
   ]
  },
  {
   "cell_type": "code",
   "execution_count": null,
   "metadata": {},
   "outputs": [],
   "source": []
  },
  {
   "cell_type": "code",
   "execution_count": 112,
   "metadata": {},
   "outputs": [],
   "source": [
    "def clean_text(start_text):\n",
    "    text = start_text.lower()\n",
    "    text = text.replace(\" \", \"_\")\n",
    "    text = text.replace(\"-\", \"_\")\n",
    "    text = re.sub(r'\\W+', '', text)\n",
    "    \n",
    "\n",
    "    if start_text != text:\n",
    "        print(f\"Standardized naming to {text}\")\n",
    "    return text"
   ]
  },
  {
   "cell_type": "code",
   "execution_count": 113,
   "metadata": {},
   "outputs": [
    {
     "name": "stdout",
     "output_type": "stream",
     "text": [
      "Standardized naming to this_is_a_test\n"
     ]
    },
    {
     "data": {
      "text/plain": [
       "'this_is_a_test'"
      ]
     },
     "execution_count": 113,
     "metadata": {},
     "output_type": "execute_result"
    }
   ],
   "source": [
    "clean_text(\"this_IS_a-TE$ST\")"
   ]
  },
  {
   "cell_type": "code",
   "execution_count": 218,
   "metadata": {},
   "outputs": [
    {
     "data": {
      "text/plain": [
       "[{'name': 'a'}, {'name': 'b'}]"
      ]
     },
     "execution_count": 218,
     "metadata": {},
     "output_type": "execute_result"
    }
   ],
   "source": [
    "x = {\"name\":\"a\"}\n",
    "y = {\"name\":\"b\"}\n",
    "l = [x, y]\n",
    "\n",
    "def dedupe_dict_list(l):\n",
    "    deduped = [dict(t) for t in {tuple(d.items()) for d in l}]\n",
    "    return deduped\n",
    "\n",
    "dedupe_dict_list(l)"
   ]
  },
  {
   "cell_type": "code",
   "execution_count": 283,
   "metadata": {},
   "outputs": [
    {
     "name": "stdout",
     "output_type": "stream",
     "text": [
      "name test\n"
     ]
    }
   ],
   "source": [
    "names = [{\"name\":\"test\"}, {\"name\":\"ryan\"}]\n",
    "for k, v in names[0].items():\n",
    "    print(k, v)  "
   ]
  },
  {
   "cell_type": "code",
   "execution_count": 169,
   "metadata": {},
   "outputs": [
    {
     "ename": "TypeError",
     "evalue": "unhashable type: 'dict'",
     "output_type": "error",
     "traceback": [
      "\u001b[0;31m---------------------------------------------------------------------------\u001b[0m",
      "\u001b[0;31mTypeError\u001b[0m                                 Traceback (most recent call last)",
      "\u001b[0;32m<ipython-input-169-4d6be1128a4f>\u001b[0m in \u001b[0;36m<module>\u001b[0;34m\u001b[0m\n\u001b[1;32m      1\u001b[0m \u001b[0mz\u001b[0m \u001b[0;34m=\u001b[0m \u001b[0;34m[\u001b[0m\u001b[0;34m{\u001b[0m\u001b[0;34m\"a\"\u001b[0m\u001b[0;34m:\u001b[0m\u001b[0;34m\"b\"\u001b[0m\u001b[0;34m}\u001b[0m\u001b[0;34m,\u001b[0m \u001b[0;34m{\u001b[0m\u001b[0;34m\"a\"\u001b[0m\u001b[0;34m:\u001b[0m\u001b[0;34m\"b\"\u001b[0m\u001b[0;34m}\u001b[0m\u001b[0;34m]\u001b[0m\u001b[0;34m\u001b[0m\u001b[0;34m\u001b[0m\u001b[0m\n\u001b[0;32m----> 2\u001b[0;31m \u001b[0mprint\u001b[0m\u001b[0;34m(\u001b[0m\u001b[0mset\u001b[0m\u001b[0;34m(\u001b[0m\u001b[0mz\u001b[0m\u001b[0;34m)\u001b[0m\u001b[0;34m)\u001b[0m\u001b[0;34m\u001b[0m\u001b[0;34m\u001b[0m\u001b[0m\n\u001b[0m",
      "\u001b[0;31mTypeError\u001b[0m: unhashable type: 'dict'"
     ]
    }
   ],
   "source": [
    "z = [{\"a\":\"b\"}, {\"a\":\"b\"}]\n",
    "print(set(z))"
   ]
  },
  {
   "cell_type": "code",
   "execution_count": null,
   "metadata": {},
   "outputs": [],
   "source": [
    "def test_create_users(self):\n",
    "    \"\"\"\n",
    "    create users.json if not provided\n",
    "    \"\"\"\n",
    "    pass\n",
    "\n",
    "def test_create_roles(self):\n",
    "    \"\"\"\n",
    "    create roles.json if not provided\n",
    "    \"\"\"\n",
    "    pass\n",
    "\n",
    "def test_create_associations(self):\n",
    "    \"\"\"\n",
    "    create master role + user json\n",
    "    \"\"\"\n",
    "    pass\n",
    "\n",
    "def test_convert_sql(self, sql_syntax):\n",
    "    \"\"\"\n",
    "    convert a query from another syntax to snow sql\n",
    "    \"\"\"\n",
    "    pass\n",
    "\n",
    "def test_create_tf(self): \n",
    "    \"\"\"\n",
    "    create terraform\n",
    "    \"\"\"\n",
    "    pass\n"
   ]
  },
  {
   "cell_type": "code",
   "execution_count": 41,
   "metadata": {},
   "outputs": [],
   "source": [
    "l = [{'a':'b'},{'c':'d'}]"
   ]
  },
  {
   "cell_type": "code",
   "execution_count": 53,
   "metadata": {},
   "outputs": [],
   "source": [
    "all_roles = [k for k in l]"
   ]
  },
  {
   "cell_type": "code",
   "execution_count": 54,
   "metadata": {},
   "outputs": [
    {
     "data": {
      "text/plain": [
       "[{'a': 'b'}, {'c': 'd'}]"
      ]
     },
     "execution_count": 54,
     "metadata": {},
     "output_type": "execute_result"
    }
   ],
   "source": [
    "all_roles"
   ]
  },
  {
   "cell_type": "code",
   "execution_count": 55,
   "metadata": {},
   "outputs": [],
   "source": []
  },
  {
   "cell_type": "code",
   "execution_count": 57,
   "metadata": {},
   "outputs": [
    {
     "data": {
      "text/plain": [
       "['a', 'c']"
      ]
     },
     "execution_count": 57,
     "metadata": {},
     "output_type": "execute_result"
    }
   ],
   "source": [
    "list(all_keys)"
   ]
  },
  {
   "cell_type": "code",
   "execution_count": 300,
   "metadata": {},
   "outputs": [
    {
     "data": {
      "text/plain": [
       "{'test': [0, 1, 2, 3, 4, 5, 6, 7, 8, 9]}"
      ]
     },
     "execution_count": 300,
     "metadata": {},
     "output_type": "execute_result"
    }
   ],
   "source": [
    "d = {'test':[]}\n",
    "\n",
    "for x in range(10):\n",
    "    d['test'].append(x)\n",
    "\n",
    "d"
   ]
  },
  {
   "cell_type": "code",
   "execution_count": 298,
   "metadata": {},
   "outputs": [
    {
     "data": {
      "text/plain": [
       "['a', 'b', 'c', 'd', 'e', 'f', 'g']"
      ]
     },
     "execution_count": 298,
     "metadata": {},
     "output_type": "execute_result"
    }
   ],
   "source": [
    "g"
   ]
  },
  {
   "cell_type": "code",
   "execution_count": null,
   "metadata": {},
   "outputs": [],
   "source": []
  }
 ],
 "metadata": {
  "kernelspec": {
   "display_name": "Python 3",
   "language": "python",
   "name": "python3"
  },
  "language_info": {
   "codemirror_mode": {
    "name": "ipython",
    "version": 3
   },
   "file_extension": ".py",
   "mimetype": "text/x-python",
   "name": "python",
   "nbconvert_exporter": "python",
   "pygments_lexer": "ipython3",
   "version": "3.7.3"
  }
 },
 "nbformat": 4,
 "nbformat_minor": 4
}
